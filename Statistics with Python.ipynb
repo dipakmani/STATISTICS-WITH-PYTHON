{
 "cells": [
  {
   "cell_type": "code",
   "execution_count": 1,
   "id": "154e578c-52c9-450a-9e90-4841fcbd0190",
   "metadata": {},
   "outputs": [],
   "source": [
    "data=[23,24,32,45,12,43,67,45,32,56,32]"
   ]
  },
  {
   "cell_type": "code",
   "execution_count": 2,
   "id": "95a20db6",
   "metadata": {},
   "outputs": [
    {
     "data": {
      "text/plain": [
       "[23, 24, 32, 45, 12, 43, 67, 45, 32, 56, 32]"
      ]
     },
     "execution_count": 2,
     "metadata": {},
     "output_type": "execute_result"
    }
   ],
   "source": [
    "data"
   ]
  },
  {
   "cell_type": "code",
   "execution_count": 3,
   "id": "05cd4fa7",
   "metadata": {},
   "outputs": [],
   "source": [
    "import pandas as pd\n",
    "import numpy as np\n",
    "import matplotlib.pyplot as plt\n",
    "import warnings\n",
    "warnings.filterwarnings(\"ignore\")\n",
    "data2=pd.read_csv(\"iris.csv\")"
   ]
  },
  {
   "cell_type": "code",
   "execution_count": 4,
   "id": "6c794c78",
   "metadata": {},
   "outputs": [
    {
     "data": {
      "text/plain": [
       "[23, 24, 32, 45, 12, 43, 67, 45, 32, 56, 32]"
      ]
     },
     "execution_count": 4,
     "metadata": {},
     "output_type": "execute_result"
    }
   ],
   "source": [
    "data"
   ]
  },
  {
   "cell_type": "code",
   "execution_count": 5,
   "id": "a99489ab-6994-432b-ad11-a63ef052579f",
   "metadata": {},
   "outputs": [
    {
     "data": {
      "text/html": [
       "<div>\n",
       "<style scoped>\n",
       "    .dataframe tbody tr th:only-of-type {\n",
       "        vertical-align: middle;\n",
       "    }\n",
       "\n",
       "    .dataframe tbody tr th {\n",
       "        vertical-align: top;\n",
       "    }\n",
       "\n",
       "    .dataframe thead th {\n",
       "        text-align: right;\n",
       "    }\n",
       "</style>\n",
       "<table border=\"1\" class=\"dataframe\">\n",
       "  <thead>\n",
       "    <tr style=\"text-align: right;\">\n",
       "      <th></th>\n",
       "      <th>Id</th>\n",
       "      <th>SepalLengthCm</th>\n",
       "      <th>SepalWidthCm</th>\n",
       "      <th>PetalLengthCm</th>\n",
       "      <th>PetalWidthCm</th>\n",
       "      <th>Species</th>\n",
       "    </tr>\n",
       "  </thead>\n",
       "  <tbody>\n",
       "    <tr>\n",
       "      <th>0</th>\n",
       "      <td>1</td>\n",
       "      <td>5.1</td>\n",
       "      <td>3.5</td>\n",
       "      <td>1.4</td>\n",
       "      <td>0.2</td>\n",
       "      <td>Iris-setosa</td>\n",
       "    </tr>\n",
       "    <tr>\n",
       "      <th>1</th>\n",
       "      <td>2</td>\n",
       "      <td>4.9</td>\n",
       "      <td>3.0</td>\n",
       "      <td>1.4</td>\n",
       "      <td>0.2</td>\n",
       "      <td>Iris-setosa</td>\n",
       "    </tr>\n",
       "    <tr>\n",
       "      <th>2</th>\n",
       "      <td>3</td>\n",
       "      <td>4.7</td>\n",
       "      <td>3.2</td>\n",
       "      <td>1.3</td>\n",
       "      <td>0.2</td>\n",
       "      <td>Iris-setosa</td>\n",
       "    </tr>\n",
       "    <tr>\n",
       "      <th>3</th>\n",
       "      <td>4</td>\n",
       "      <td>4.6</td>\n",
       "      <td>3.1</td>\n",
       "      <td>1.5</td>\n",
       "      <td>0.2</td>\n",
       "      <td>Iris-setosa</td>\n",
       "    </tr>\n",
       "    <tr>\n",
       "      <th>4</th>\n",
       "      <td>5</td>\n",
       "      <td>5.0</td>\n",
       "      <td>3.6</td>\n",
       "      <td>1.4</td>\n",
       "      <td>0.2</td>\n",
       "      <td>Iris-setosa</td>\n",
       "    </tr>\n",
       "    <tr>\n",
       "      <th>...</th>\n",
       "      <td>...</td>\n",
       "      <td>...</td>\n",
       "      <td>...</td>\n",
       "      <td>...</td>\n",
       "      <td>...</td>\n",
       "      <td>...</td>\n",
       "    </tr>\n",
       "    <tr>\n",
       "      <th>145</th>\n",
       "      <td>146</td>\n",
       "      <td>6.7</td>\n",
       "      <td>3.0</td>\n",
       "      <td>5.2</td>\n",
       "      <td>2.3</td>\n",
       "      <td>Iris-virginica</td>\n",
       "    </tr>\n",
       "    <tr>\n",
       "      <th>146</th>\n",
       "      <td>147</td>\n",
       "      <td>6.3</td>\n",
       "      <td>2.5</td>\n",
       "      <td>5.0</td>\n",
       "      <td>1.9</td>\n",
       "      <td>Iris-virginica</td>\n",
       "    </tr>\n",
       "    <tr>\n",
       "      <th>147</th>\n",
       "      <td>148</td>\n",
       "      <td>6.5</td>\n",
       "      <td>3.0</td>\n",
       "      <td>5.2</td>\n",
       "      <td>2.0</td>\n",
       "      <td>Iris-virginica</td>\n",
       "    </tr>\n",
       "    <tr>\n",
       "      <th>148</th>\n",
       "      <td>149</td>\n",
       "      <td>6.2</td>\n",
       "      <td>3.4</td>\n",
       "      <td>5.4</td>\n",
       "      <td>2.3</td>\n",
       "      <td>Iris-virginica</td>\n",
       "    </tr>\n",
       "    <tr>\n",
       "      <th>149</th>\n",
       "      <td>150</td>\n",
       "      <td>5.9</td>\n",
       "      <td>3.0</td>\n",
       "      <td>5.1</td>\n",
       "      <td>1.8</td>\n",
       "      <td>Iris-virginica</td>\n",
       "    </tr>\n",
       "  </tbody>\n",
       "</table>\n",
       "<p>150 rows × 6 columns</p>\n",
       "</div>"
      ],
      "text/plain": [
       "      Id  SepalLengthCm  SepalWidthCm  PetalLengthCm  PetalWidthCm  \\\n",
       "0      1            5.1           3.5            1.4           0.2   \n",
       "1      2            4.9           3.0            1.4           0.2   \n",
       "2      3            4.7           3.2            1.3           0.2   \n",
       "3      4            4.6           3.1            1.5           0.2   \n",
       "4      5            5.0           3.6            1.4           0.2   \n",
       "..   ...            ...           ...            ...           ...   \n",
       "145  146            6.7           3.0            5.2           2.3   \n",
       "146  147            6.3           2.5            5.0           1.9   \n",
       "147  148            6.5           3.0            5.2           2.0   \n",
       "148  149            6.2           3.4            5.4           2.3   \n",
       "149  150            5.9           3.0            5.1           1.8   \n",
       "\n",
       "            Species  \n",
       "0       Iris-setosa  \n",
       "1       Iris-setosa  \n",
       "2       Iris-setosa  \n",
       "3       Iris-setosa  \n",
       "4       Iris-setosa  \n",
       "..              ...  \n",
       "145  Iris-virginica  \n",
       "146  Iris-virginica  \n",
       "147  Iris-virginica  \n",
       "148  Iris-virginica  \n",
       "149  Iris-virginica  \n",
       "\n",
       "[150 rows x 6 columns]"
      ]
     },
     "execution_count": 5,
     "metadata": {},
     "output_type": "execute_result"
    }
   ],
   "source": [
    "data2"
   ]
  },
  {
   "cell_type": "code",
   "execution_count": 6,
   "id": "66fc4984-e4da-483a-ab00-3e92301d1e24",
   "metadata": {},
   "outputs": [],
   "source": [
    "data3=pd.read_csv(\"Titanic.csv\")"
   ]
  },
  {
   "cell_type": "code",
   "execution_count": 7,
   "id": "19b4a723-0bd4-4e9c-b5c1-081333426161",
   "metadata": {},
   "outputs": [
    {
     "data": {
      "text/html": [
       "<div>\n",
       "<style scoped>\n",
       "    .dataframe tbody tr th:only-of-type {\n",
       "        vertical-align: middle;\n",
       "    }\n",
       "\n",
       "    .dataframe tbody tr th {\n",
       "        vertical-align: top;\n",
       "    }\n",
       "\n",
       "    .dataframe thead th {\n",
       "        text-align: right;\n",
       "    }\n",
       "</style>\n",
       "<table border=\"1\" class=\"dataframe\">\n",
       "  <thead>\n",
       "    <tr style=\"text-align: right;\">\n",
       "      <th></th>\n",
       "      <th>PassengerId</th>\n",
       "      <th>Survived</th>\n",
       "      <th>Pclass</th>\n",
       "      <th>Name</th>\n",
       "      <th>Sex</th>\n",
       "      <th>Age</th>\n",
       "      <th>SibSp</th>\n",
       "      <th>Parch</th>\n",
       "      <th>Ticket</th>\n",
       "      <th>Fare</th>\n",
       "      <th>Cabin</th>\n",
       "      <th>Embarked</th>\n",
       "    </tr>\n",
       "  </thead>\n",
       "  <tbody>\n",
       "    <tr>\n",
       "      <th>0</th>\n",
       "      <td>1</td>\n",
       "      <td>0</td>\n",
       "      <td>3</td>\n",
       "      <td>Braund, Mr. Owen Harris</td>\n",
       "      <td>male</td>\n",
       "      <td>22.0</td>\n",
       "      <td>1</td>\n",
       "      <td>0</td>\n",
       "      <td>A/5 21171</td>\n",
       "      <td>7.2500</td>\n",
       "      <td>NaN</td>\n",
       "      <td>S</td>\n",
       "    </tr>\n",
       "    <tr>\n",
       "      <th>1</th>\n",
       "      <td>2</td>\n",
       "      <td>1</td>\n",
       "      <td>1</td>\n",
       "      <td>Cumings, Mrs. John Bradley (Florence Briggs Th...</td>\n",
       "      <td>female</td>\n",
       "      <td>38.0</td>\n",
       "      <td>1</td>\n",
       "      <td>0</td>\n",
       "      <td>PC 17599</td>\n",
       "      <td>71.2833</td>\n",
       "      <td>C85</td>\n",
       "      <td>C</td>\n",
       "    </tr>\n",
       "    <tr>\n",
       "      <th>2</th>\n",
       "      <td>3</td>\n",
       "      <td>1</td>\n",
       "      <td>3</td>\n",
       "      <td>Heikkinen, Miss. Laina</td>\n",
       "      <td>female</td>\n",
       "      <td>26.0</td>\n",
       "      <td>0</td>\n",
       "      <td>0</td>\n",
       "      <td>STON/O2. 3101282</td>\n",
       "      <td>7.9250</td>\n",
       "      <td>NaN</td>\n",
       "      <td>S</td>\n",
       "    </tr>\n",
       "    <tr>\n",
       "      <th>3</th>\n",
       "      <td>4</td>\n",
       "      <td>1</td>\n",
       "      <td>1</td>\n",
       "      <td>Futrelle, Mrs. Jacques Heath (Lily May Peel)</td>\n",
       "      <td>female</td>\n",
       "      <td>35.0</td>\n",
       "      <td>1</td>\n",
       "      <td>0</td>\n",
       "      <td>113803</td>\n",
       "      <td>53.1000</td>\n",
       "      <td>C123</td>\n",
       "      <td>S</td>\n",
       "    </tr>\n",
       "    <tr>\n",
       "      <th>4</th>\n",
       "      <td>5</td>\n",
       "      <td>0</td>\n",
       "      <td>3</td>\n",
       "      <td>Allen, Mr. William Henry</td>\n",
       "      <td>male</td>\n",
       "      <td>35.0</td>\n",
       "      <td>0</td>\n",
       "      <td>0</td>\n",
       "      <td>373450</td>\n",
       "      <td>8.0500</td>\n",
       "      <td>NaN</td>\n",
       "      <td>S</td>\n",
       "    </tr>\n",
       "    <tr>\n",
       "      <th>...</th>\n",
       "      <td>...</td>\n",
       "      <td>...</td>\n",
       "      <td>...</td>\n",
       "      <td>...</td>\n",
       "      <td>...</td>\n",
       "      <td>...</td>\n",
       "      <td>...</td>\n",
       "      <td>...</td>\n",
       "      <td>...</td>\n",
       "      <td>...</td>\n",
       "      <td>...</td>\n",
       "      <td>...</td>\n",
       "    </tr>\n",
       "    <tr>\n",
       "      <th>886</th>\n",
       "      <td>887</td>\n",
       "      <td>0</td>\n",
       "      <td>2</td>\n",
       "      <td>Montvila, Rev. Juozas</td>\n",
       "      <td>male</td>\n",
       "      <td>27.0</td>\n",
       "      <td>0</td>\n",
       "      <td>0</td>\n",
       "      <td>211536</td>\n",
       "      <td>13.0000</td>\n",
       "      <td>NaN</td>\n",
       "      <td>S</td>\n",
       "    </tr>\n",
       "    <tr>\n",
       "      <th>887</th>\n",
       "      <td>888</td>\n",
       "      <td>1</td>\n",
       "      <td>1</td>\n",
       "      <td>Graham, Miss. Margaret Edith</td>\n",
       "      <td>female</td>\n",
       "      <td>19.0</td>\n",
       "      <td>0</td>\n",
       "      <td>0</td>\n",
       "      <td>112053</td>\n",
       "      <td>30.0000</td>\n",
       "      <td>B42</td>\n",
       "      <td>S</td>\n",
       "    </tr>\n",
       "    <tr>\n",
       "      <th>888</th>\n",
       "      <td>889</td>\n",
       "      <td>0</td>\n",
       "      <td>3</td>\n",
       "      <td>Johnston, Miss. Catherine Helen \"Carrie\"</td>\n",
       "      <td>female</td>\n",
       "      <td>NaN</td>\n",
       "      <td>1</td>\n",
       "      <td>2</td>\n",
       "      <td>W./C. 6607</td>\n",
       "      <td>23.4500</td>\n",
       "      <td>NaN</td>\n",
       "      <td>S</td>\n",
       "    </tr>\n",
       "    <tr>\n",
       "      <th>889</th>\n",
       "      <td>890</td>\n",
       "      <td>1</td>\n",
       "      <td>1</td>\n",
       "      <td>Behr, Mr. Karl Howell</td>\n",
       "      <td>male</td>\n",
       "      <td>26.0</td>\n",
       "      <td>0</td>\n",
       "      <td>0</td>\n",
       "      <td>111369</td>\n",
       "      <td>30.0000</td>\n",
       "      <td>C148</td>\n",
       "      <td>C</td>\n",
       "    </tr>\n",
       "    <tr>\n",
       "      <th>890</th>\n",
       "      <td>891</td>\n",
       "      <td>0</td>\n",
       "      <td>3</td>\n",
       "      <td>Dooley, Mr. Patrick</td>\n",
       "      <td>male</td>\n",
       "      <td>32.0</td>\n",
       "      <td>0</td>\n",
       "      <td>0</td>\n",
       "      <td>370376</td>\n",
       "      <td>7.7500</td>\n",
       "      <td>NaN</td>\n",
       "      <td>Q</td>\n",
       "    </tr>\n",
       "  </tbody>\n",
       "</table>\n",
       "<p>891 rows × 12 columns</p>\n",
       "</div>"
      ],
      "text/plain": [
       "     PassengerId  Survived  Pclass  \\\n",
       "0              1         0       3   \n",
       "1              2         1       1   \n",
       "2              3         1       3   \n",
       "3              4         1       1   \n",
       "4              5         0       3   \n",
       "..           ...       ...     ...   \n",
       "886          887         0       2   \n",
       "887          888         1       1   \n",
       "888          889         0       3   \n",
       "889          890         1       1   \n",
       "890          891         0       3   \n",
       "\n",
       "                                                  Name     Sex   Age  SibSp  \\\n",
       "0                              Braund, Mr. Owen Harris    male  22.0      1   \n",
       "1    Cumings, Mrs. John Bradley (Florence Briggs Th...  female  38.0      1   \n",
       "2                               Heikkinen, Miss. Laina  female  26.0      0   \n",
       "3         Futrelle, Mrs. Jacques Heath (Lily May Peel)  female  35.0      1   \n",
       "4                             Allen, Mr. William Henry    male  35.0      0   \n",
       "..                                                 ...     ...   ...    ...   \n",
       "886                              Montvila, Rev. Juozas    male  27.0      0   \n",
       "887                       Graham, Miss. Margaret Edith  female  19.0      0   \n",
       "888           Johnston, Miss. Catherine Helen \"Carrie\"  female   NaN      1   \n",
       "889                              Behr, Mr. Karl Howell    male  26.0      0   \n",
       "890                                Dooley, Mr. Patrick    male  32.0      0   \n",
       "\n",
       "     Parch            Ticket     Fare Cabin Embarked  \n",
       "0        0         A/5 21171   7.2500   NaN        S  \n",
       "1        0          PC 17599  71.2833   C85        C  \n",
       "2        0  STON/O2. 3101282   7.9250   NaN        S  \n",
       "3        0            113803  53.1000  C123        S  \n",
       "4        0            373450   8.0500   NaN        S  \n",
       "..     ...               ...      ...   ...      ...  \n",
       "886      0            211536  13.0000   NaN        S  \n",
       "887      0            112053  30.0000   B42        S  \n",
       "888      2        W./C. 6607  23.4500   NaN        S  \n",
       "889      0            111369  30.0000  C148        C  \n",
       "890      0            370376   7.7500   NaN        Q  \n",
       "\n",
       "[891 rows x 12 columns]"
      ]
     },
     "execution_count": 7,
     "metadata": {},
     "output_type": "execute_result"
    }
   ],
   "source": [
    "data3"
   ]
  },
  {
   "cell_type": "code",
   "execution_count": 8,
   "id": "095a190f-62f4-40b0-83f6-1fc1509c98ac",
   "metadata": {},
   "outputs": [
    {
     "data": {
      "text/plain": [
       "[23, 24, 32, 45, 12, 43, 67, 45, 32, 56, 32]"
      ]
     },
     "execution_count": 8,
     "metadata": {},
     "output_type": "execute_result"
    }
   ],
   "source": [
    "data"
   ]
  },
  {
   "cell_type": "code",
   "execution_count": 9,
   "id": "7805e6b5-bf58-44ae-a8b9-6e50cbd81ce5",
   "metadata": {},
   "outputs": [],
   "source": [
    "data_copy=data.copy()"
   ]
  },
  {
   "cell_type": "code",
   "execution_count": 10,
   "id": "940784c2-c8ed-414f-b3d7-aaf7d1310bda",
   "metadata": {},
   "outputs": [],
   "source": [
    "data_copy.sort()"
   ]
  },
  {
   "cell_type": "code",
   "execution_count": 11,
   "id": "0b160c8c-e784-46d0-97a1-c9299f43cf19",
   "metadata": {},
   "outputs": [
    {
     "data": {
      "text/plain": [
       "[12, 23, 24, 32, 32, 32, 43, 45, 45, 56, 67]"
      ]
     },
     "execution_count": 11,
     "metadata": {},
     "output_type": "execute_result"
    }
   ],
   "source": [
    "data_copy"
   ]
  },
  {
   "cell_type": "raw",
   "id": "d8898082",
   "metadata": {},
   "source": [
    "pandas\n",
    "numpy\n",
    "matplotlin and seaborn\n",
    "scipy\n",
    "statsmodel\n",
    "stastistics"
   ]
  },
  {
   "cell_type": "raw",
   "id": "725307a1",
   "metadata": {},
   "source": [
    "mean \n",
    "median\n",
    "mode"
   ]
  },
  {
   "cell_type": "code",
   "execution_count": 12,
   "id": "1351440d-a93a-4584-9813-6747fde2b378",
   "metadata": {},
   "outputs": [
    {
     "data": {
      "text/plain": [
       "[23, 24, 32, 45, 12, 43, 67, 45, 32, 56, 32]"
      ]
     },
     "execution_count": 12,
     "metadata": {},
     "output_type": "execute_result"
    }
   ],
   "source": [
    "data"
   ]
  },
  {
   "cell_type": "code",
   "execution_count": 13,
   "id": "a16be3c1-01ee-42b6-a65e-caf43eeb588d",
   "metadata": {},
   "outputs": [
    {
     "data": {
      "text/plain": [
       "[12, 23, 24, 32, 32, 32, 43, 45, 45, 56, 67]"
      ]
     },
     "execution_count": 13,
     "metadata": {},
     "output_type": "execute_result"
    }
   ],
   "source": [
    "data_copy"
   ]
  },
  {
   "cell_type": "code",
   "execution_count": 14,
   "id": "849a3574-4628-4b8a-84cb-127ea333eb9d",
   "metadata": {},
   "outputs": [
    {
     "data": {
      "text/plain": [
       "37.36363636363637"
      ]
     },
     "execution_count": 14,
     "metadata": {},
     "output_type": "execute_result"
    }
   ],
   "source": [
    "import numpy as np\n",
    "np.mean(data)"
   ]
  },
  {
   "cell_type": "code",
   "execution_count": 15,
   "id": "1a666002-212e-489c-828d-f982882be96c",
   "metadata": {},
   "outputs": [
    {
     "data": {
      "text/plain": [
       "32.0"
      ]
     },
     "execution_count": 15,
     "metadata": {},
     "output_type": "execute_result"
    }
   ],
   "source": [
    "np.median(data)"
   ]
  },
  {
   "cell_type": "code",
   "execution_count": 16,
   "id": "31c52437-7cb7-45e2-afad-c31fd8da7983",
   "metadata": {},
   "outputs": [
    {
     "data": {
      "text/plain": [
       "5.843333333333335"
      ]
     },
     "execution_count": 16,
     "metadata": {},
     "output_type": "execute_result"
    }
   ],
   "source": [
    "np.mean(data2['SepalLengthCm'])\n"
   ]
  },
  {
   "cell_type": "raw",
   "id": "7f3ac4d6",
   "metadata": {},
   "source": [
    "import numpy as np\n",
    "np.mode(data)"
   ]
  },
  {
   "cell_type": "code",
   "execution_count": 17,
   "id": "312646ec-c42e-452f-b44a-d2d0543291d2",
   "metadata": {},
   "outputs": [],
   "source": [
    "import statistics"
   ]
  },
  {
   "cell_type": "code",
   "execution_count": 18,
   "id": "7ad0b9e2-1b29-4f64-8ec1-152b47863f74",
   "metadata": {},
   "outputs": [
    {
     "data": {
      "text/plain": [
       "32"
      ]
     },
     "execution_count": 18,
     "metadata": {},
     "output_type": "execute_result"
    }
   ],
   "source": [
    "statistics.mode(data)"
   ]
  },
  {
   "cell_type": "code",
   "execution_count": 19,
   "id": "7659bf90-4c1e-4600-8124-a333b84b7c3d",
   "metadata": {},
   "outputs": [
    {
     "data": {
      "text/plain": [
       "ModeResult(mode=array([32]), count=array([3]))"
      ]
     },
     "execution_count": 19,
     "metadata": {},
     "output_type": "execute_result"
    }
   ],
   "source": [
    "from scipy import stats as st\n",
    "st.mode(data)"
   ]
  },
  {
   "cell_type": "code",
   "execution_count": 20,
   "id": "d68bca33-6d7f-4dc4-a044-cf525499f969",
   "metadata": {},
   "outputs": [],
   "source": [
    "def mean(data):\n",
    "    sum = 0 \n",
    "    for i in data:\n",
    "        sum = sum + i\n",
    "\n",
    "    mean = sum /len(data)\n",
    "    \n",
    "    return mean\n"
   ]
  },
  {
   "cell_type": "code",
   "execution_count": 21,
   "id": "5aa1fbba-242c-4ca1-aba5-81f9451015c6",
   "metadata": {},
   "outputs": [
    {
     "data": {
      "text/plain": [
       "37.36363636363637"
      ]
     },
     "execution_count": 21,
     "metadata": {},
     "output_type": "execute_result"
    }
   ],
   "source": [
    "mean(data)"
   ]
  },
  {
   "cell_type": "code",
   "execution_count": 22,
   "id": "257a0cf0-8fc3-4068-b002-28a89357537c",
   "metadata": {},
   "outputs": [],
   "source": [
    "data_copy.append(150)"
   ]
  },
  {
   "cell_type": "code",
   "execution_count": 23,
   "id": "09feef85-f318-4bf7-81de-bf65fdff4c85",
   "metadata": {},
   "outputs": [
    {
     "data": {
      "text/plain": [
       "[12, 23, 24, 32, 32, 32, 43, 45, 45, 56, 67, 150]"
      ]
     },
     "execution_count": 23,
     "metadata": {},
     "output_type": "execute_result"
    }
   ],
   "source": [
    "data_copy"
   ]
  },
  {
   "cell_type": "code",
   "execution_count": 24,
   "id": "60a6c1ce-ab60-4914-9a2e-31a554bf808b",
   "metadata": {},
   "outputs": [],
   "source": [
    "data_copy2=data.copy()"
   ]
  },
  {
   "cell_type": "code",
   "execution_count": 25,
   "id": "2eef65e7-c5d4-434d-b15e-e80530a013bb",
   "metadata": {},
   "outputs": [],
   "source": [
    "data_copy2.append(75)"
   ]
  },
  {
   "cell_type": "code",
   "execution_count": 26,
   "id": "6a2bb50e-6c9f-46b5-97a7-657d38d0fe08",
   "metadata": {},
   "outputs": [
    {
     "data": {
      "text/plain": [
       "40.5"
      ]
     },
     "execution_count": 26,
     "metadata": {},
     "output_type": "execute_result"
    }
   ],
   "source": [
    "np.mean(data_copy2)"
   ]
  },
  {
   "cell_type": "code",
   "execution_count": 27,
   "id": "f85fbc28-ca58-4ee0-84a3-d4440ee5eb27",
   "metadata": {},
   "outputs": [
    {
     "data": {
      "text/plain": [
       "46.75"
      ]
     },
     "execution_count": 27,
     "metadata": {},
     "output_type": "execute_result"
    }
   ],
   "source": [
    "np.mean(data_copy)"
   ]
  },
  {
   "cell_type": "code",
   "execution_count": 28,
   "id": "bbd21dc2-42c4-4e6b-878d-eb239ceb9e41",
   "metadata": {},
   "outputs": [
    {
     "data": {
      "text/plain": [
       "32.0"
      ]
     },
     "execution_count": 28,
     "metadata": {},
     "output_type": "execute_result"
    }
   ],
   "source": [
    "np.median(data)"
   ]
  },
  {
   "cell_type": "code",
   "execution_count": 29,
   "id": "3fde8cea-dcec-453f-a067-b2acf046bc7a",
   "metadata": {},
   "outputs": [
    {
     "data": {
      "text/plain": [
       "[12, 23, 24, 32, 32, 32, 43, 45, 45, 56, 67, 150]"
      ]
     },
     "execution_count": 29,
     "metadata": {},
     "output_type": "execute_result"
    }
   ],
   "source": [
    "data_copy"
   ]
  },
  {
   "cell_type": "code",
   "execution_count": 30,
   "id": "9410bc09-7c28-4d53-8b59-fbffa15f7a5a",
   "metadata": {},
   "outputs": [
    {
     "data": {
      "text/plain": [
       "37.5"
      ]
     },
     "execution_count": 30,
     "metadata": {},
     "output_type": "execute_result"
    }
   ],
   "source": [
    "np.median(data_copy)"
   ]
  },
  {
   "cell_type": "code",
   "execution_count": 31,
   "id": "2864566e-8a8e-4bd4-92d6-883c61204523",
   "metadata": {},
   "outputs": [
    {
     "data": {
      "text/plain": [
       "37.5"
      ]
     },
     "execution_count": 31,
     "metadata": {},
     "output_type": "execute_result"
    }
   ],
   "source": [
    "np.median(data_copy2)"
   ]
  },
  {
   "cell_type": "code",
   "execution_count": 32,
   "id": "8385bc68-b9c2-467d-a1c6-74050aeffe91",
   "metadata": {},
   "outputs": [
    {
     "data": {
      "text/plain": [
       "[23, 24, 32, 45, 12, 43, 67, 45, 32, 56, 32]"
      ]
     },
     "execution_count": 32,
     "metadata": {},
     "output_type": "execute_result"
    }
   ],
   "source": [
    "data"
   ]
  },
  {
   "cell_type": "code",
   "execution_count": 33,
   "id": "45a82099-bc21-4d1d-8d5b-b3d3434dfff0",
   "metadata": {},
   "outputs": [],
   "source": [
    "#dispersion"
   ]
  },
  {
   "cell_type": "code",
   "execution_count": 34,
   "id": "523bdffa-eddb-4b9c-9d4c-ce7f0cef944c",
   "metadata": {},
   "outputs": [
    {
     "data": {
      "text/plain": [
       "[23, 24, 32, 45, 12, 43, 67, 45, 32, 56, 32]"
      ]
     },
     "execution_count": 34,
     "metadata": {},
     "output_type": "execute_result"
    }
   ],
   "source": [
    "data"
   ]
  },
  {
   "cell_type": "code",
   "execution_count": 35,
   "id": "a6857d9f-fd08-4366-a501-41292a320783",
   "metadata": {},
   "outputs": [
    {
     "data": {
      "text/plain": [
       "[12, 23, 24, 32, 32, 32, 43, 45, 45, 56, 67, 150]"
      ]
     },
     "execution_count": 35,
     "metadata": {},
     "output_type": "execute_result"
    }
   ],
   "source": [
    "data_copy"
   ]
  },
  {
   "cell_type": "code",
   "execution_count": 36,
   "id": "6b778f5d-9701-4519-863a-a873c37a458c",
   "metadata": {},
   "outputs": [
    {
     "data": {
      "text/plain": [
       "150"
      ]
     },
     "execution_count": 36,
     "metadata": {},
     "output_type": "execute_result"
    }
   ],
   "source": [
    "data_copy.pop()"
   ]
  },
  {
   "cell_type": "code",
   "execution_count": 37,
   "id": "1da0ce47-53f8-476c-96b8-dd31d1760a7e",
   "metadata": {},
   "outputs": [
    {
     "data": {
      "text/plain": [
       "[12, 23, 24, 32, 32, 32, 43, 45, 45, 56, 67]"
      ]
     },
     "execution_count": 37,
     "metadata": {},
     "output_type": "execute_result"
    }
   ],
   "source": [
    "data_copy"
   ]
  },
  {
   "cell_type": "code",
   "execution_count": 38,
   "id": "b91aba06-bf2e-44d9-90a4-8946472b3727",
   "metadata": {},
   "outputs": [
    {
     "data": {
      "text/plain": [
       "array([28.])"
      ]
     },
     "execution_count": 38,
     "metadata": {},
     "output_type": "execute_result"
    }
   ],
   "source": [
    "np.percentile(data,[25])"
   ]
  },
  {
   "cell_type": "code",
   "execution_count": 39,
   "id": "140dee01-4c00-4e85-a377-2ed82433fd51",
   "metadata": {},
   "outputs": [
    {
     "data": {
      "text/plain": [
       "array([32.])"
      ]
     },
     "execution_count": 39,
     "metadata": {},
     "output_type": "execute_result"
    }
   ],
   "source": [
    "np.percentile(data,[50])"
   ]
  },
  {
   "cell_type": "code",
   "execution_count": 40,
   "id": "e839a255-e842-4522-bcb8-6d289dd49783",
   "metadata": {},
   "outputs": [
    {
     "data": {
      "text/plain": [
       "array([28., 32., 45., 67.])"
      ]
     },
     "execution_count": 40,
     "metadata": {},
     "output_type": "execute_result"
    }
   ],
   "source": [
    "np.percentile(data,[25,50,75,100])"
   ]
  },
  {
   "cell_type": "code",
   "execution_count": 41,
   "id": "3684b8fa-3685-454a-b558-ae1fc79ae986",
   "metadata": {},
   "outputs": [
    {
     "ename": "NameError",
     "evalue": "name 'q1' is not defined",
     "output_type": "error",
     "traceback": [
      "\u001b[1;31m---------------------------------------------------------------------------\u001b[0m",
      "\u001b[1;31mNameError\u001b[0m                                 Traceback (most recent call last)",
      "Input \u001b[1;32mIn [41]\u001b[0m, in \u001b[0;36m<cell line: 1>\u001b[1;34m()\u001b[0m\n\u001b[1;32m----> 1\u001b[0m \u001b[43mq1\u001b[49m,q2,q3,q4\n\u001b[0;32m      3\u001b[0m IQR\u001b[38;5;241m=\u001b[39mq3\u001b[38;5;241m-\u001b[39mq1\n\u001b[0;32m      5\u001b[0m lower_fence\u001b[38;5;241m=\u001b[39mq1\u001b[38;5;241m-\u001b[39miqr\u001b[38;5;241m*\u001b[39m\u001b[38;5;241m1.5\u001b[39m\n",
      "\u001b[1;31mNameError\u001b[0m: name 'q1' is not defined"
     ]
    }
   ],
   "source": [
    "q1,q2,q3,q4\n",
    "\n",
    "IQR=q3-q1\n",
    "\n",
    "lower_fence=q1-iqr*1.5\n",
    "upper_fence=q3+iqr*1.5"
   ]
  },
  {
   "cell_type": "code",
   "execution_count": null,
   "id": "4ca81968-c7e8-4531-88e7-b19ad5425bf1",
   "metadata": {},
   "outputs": [],
   "source": [
    "data_copy.append(150)"
   ]
  },
  {
   "cell_type": "code",
   "execution_count": 42,
   "id": "ae2e7b3c-a302-47dc-8ee9-df8d36583a09",
   "metadata": {},
   "outputs": [
    {
     "data": {
      "text/plain": [
       "[12, 23, 24, 32, 32, 32, 43, 45, 45, 56, 67]"
      ]
     },
     "execution_count": 42,
     "metadata": {},
     "output_type": "execute_result"
    }
   ],
   "source": [
    "data_copy"
   ]
  },
  {
   "cell_type": "code",
   "execution_count": 43,
   "id": "44cb1e1e-cd53-4ad9-b65c-7521d3ab6a73",
   "metadata": {},
   "outputs": [
    {
     "data": {
      "text/plain": [
       "<AxesSubplot:>"
      ]
     },
     "execution_count": 43,
     "metadata": {},
     "output_type": "execute_result"
    },
    {
     "data": {
      "image/png": "[encoded data removed]",
      "text/plain": [
       "<Figure size 640x480 with 1 Axes>"
      ]
     },
     "metadata": {},
     "output_type": "display_data"
    }
   ],
   "source": [
    "import seaborn as sns\n",
    "sns.boxplot(data_copy)"
   ]
  },
  {
   "cell_type": "code",
   "execution_count": 44,
   "id": "f6ddefea-160c-4d8f-8b5c-6848a28d86ea",
   "metadata": {},
   "outputs": [
    {
     "data": {
      "text/plain": [
       "[23, 24, 32, 45, 12, 43, 67, 45, 32, 56, 32]"
      ]
     },
     "execution_count": 44,
     "metadata": {},
     "output_type": "execute_result"
    }
   ],
   "source": [
    "data"
   ]
  },
  {
   "cell_type": "raw",
   "id": "27be0628",
   "metadata": {},
   "source": [
    "find out atleast 5 techniques of the sampling and implemnent it wiht the help of python\n",
    "keep it ovver the github\n",
    "post it in linkdin"
   ]
  },
  {
   "cell_type": "raw",
   "id": "8d3a3ed8",
   "metadata": {},
   "source": [
    "sample/population"
   ]
  },
  {
   "cell_type": "code",
   "execution_count": 45,
   "id": "94f9cae8-9003-4cd9-8092-a2ede44dbfca",
   "metadata": {},
   "outputs": [
    {
     "data": {
      "text/plain": [
       "array([24, 32, 32])"
      ]
     },
     "execution_count": 45,
     "metadata": {},
     "output_type": "execute_result"
    }
   ],
   "source": [
    "np.random.choice(data,size=3)"
   ]
  },
  {
   "cell_type": "code",
   "execution_count": 46,
   "id": "fd39614b-e36f-415a-afa8-e9567d8672ac",
   "metadata": {},
   "outputs": [
    {
     "data": {
      "text/html": [
       "<div>\n",
       "<style scoped>\n",
       "    .dataframe tbody tr th:only-of-type {\n",
       "        vertical-align: middle;\n",
       "    }\n",
       "\n",
       "    .dataframe tbody tr th {\n",
       "        vertical-align: top;\n",
       "    }\n",
       "\n",
       "    .dataframe thead th {\n",
       "        text-align: right;\n",
       "    }\n",
       "</style>\n",
       "<table border=\"1\" class=\"dataframe\">\n",
       "  <thead>\n",
       "    <tr style=\"text-align: right;\">\n",
       "      <th></th>\n",
       "      <th>Id</th>\n",
       "      <th>SepalLengthCm</th>\n",
       "      <th>SepalWidthCm</th>\n",
       "      <th>PetalLengthCm</th>\n",
       "      <th>PetalWidthCm</th>\n",
       "      <th>Species</th>\n",
       "    </tr>\n",
       "  </thead>\n",
       "  <tbody>\n",
       "    <tr>\n",
       "      <th>75</th>\n",
       "      <td>76</td>\n",
       "      <td>6.6</td>\n",
       "      <td>3.0</td>\n",
       "      <td>4.4</td>\n",
       "      <td>1.4</td>\n",
       "      <td>Iris-versicolor</td>\n",
       "    </tr>\n",
       "    <tr>\n",
       "      <th>107</th>\n",
       "      <td>108</td>\n",
       "      <td>7.3</td>\n",
       "      <td>2.9</td>\n",
       "      <td>6.3</td>\n",
       "      <td>1.8</td>\n",
       "      <td>Iris-virginica</td>\n",
       "    </tr>\n",
       "    <tr>\n",
       "      <th>89</th>\n",
       "      <td>90</td>\n",
       "      <td>5.5</td>\n",
       "      <td>2.5</td>\n",
       "      <td>4.0</td>\n",
       "      <td>1.3</td>\n",
       "      <td>Iris-versicolor</td>\n",
       "    </tr>\n",
       "    <tr>\n",
       "      <th>1</th>\n",
       "      <td>2</td>\n",
       "      <td>4.9</td>\n",
       "      <td>3.0</td>\n",
       "      <td>1.4</td>\n",
       "      <td>0.2</td>\n",
       "      <td>Iris-setosa</td>\n",
       "    </tr>\n",
       "    <tr>\n",
       "      <th>12</th>\n",
       "      <td>13</td>\n",
       "      <td>4.8</td>\n",
       "      <td>3.0</td>\n",
       "      <td>1.4</td>\n",
       "      <td>0.1</td>\n",
       "      <td>Iris-setosa</td>\n",
       "    </tr>\n",
       "    <tr>\n",
       "      <th>116</th>\n",
       "      <td>117</td>\n",
       "      <td>6.5</td>\n",
       "      <td>3.0</td>\n",
       "      <td>5.5</td>\n",
       "      <td>1.8</td>\n",
       "      <td>Iris-virginica</td>\n",
       "    </tr>\n",
       "    <tr>\n",
       "      <th>95</th>\n",
       "      <td>96</td>\n",
       "      <td>5.7</td>\n",
       "      <td>3.0</td>\n",
       "      <td>4.2</td>\n",
       "      <td>1.2</td>\n",
       "      <td>Iris-versicolor</td>\n",
       "    </tr>\n",
       "    <tr>\n",
       "      <th>60</th>\n",
       "      <td>61</td>\n",
       "      <td>5.0</td>\n",
       "      <td>2.0</td>\n",
       "      <td>3.5</td>\n",
       "      <td>1.0</td>\n",
       "      <td>Iris-versicolor</td>\n",
       "    </tr>\n",
       "    <tr>\n",
       "      <th>142</th>\n",
       "      <td>143</td>\n",
       "      <td>5.8</td>\n",
       "      <td>2.7</td>\n",
       "      <td>5.1</td>\n",
       "      <td>1.9</td>\n",
       "      <td>Iris-virginica</td>\n",
       "    </tr>\n",
       "    <tr>\n",
       "      <th>34</th>\n",
       "      <td>35</td>\n",
       "      <td>4.9</td>\n",
       "      <td>3.1</td>\n",
       "      <td>1.5</td>\n",
       "      <td>0.1</td>\n",
       "      <td>Iris-setosa</td>\n",
       "    </tr>\n",
       "    <tr>\n",
       "      <th>112</th>\n",
       "      <td>113</td>\n",
       "      <td>6.8</td>\n",
       "      <td>3.0</td>\n",
       "      <td>5.5</td>\n",
       "      <td>2.1</td>\n",
       "      <td>Iris-virginica</td>\n",
       "    </tr>\n",
       "    <tr>\n",
       "      <th>49</th>\n",
       "      <td>50</td>\n",
       "      <td>5.0</td>\n",
       "      <td>3.3</td>\n",
       "      <td>1.4</td>\n",
       "      <td>0.2</td>\n",
       "      <td>Iris-setosa</td>\n",
       "    </tr>\n",
       "    <tr>\n",
       "      <th>4</th>\n",
       "      <td>5</td>\n",
       "      <td>5.0</td>\n",
       "      <td>3.6</td>\n",
       "      <td>1.4</td>\n",
       "      <td>0.2</td>\n",
       "      <td>Iris-setosa</td>\n",
       "    </tr>\n",
       "    <tr>\n",
       "      <th>83</th>\n",
       "      <td>84</td>\n",
       "      <td>6.0</td>\n",
       "      <td>2.7</td>\n",
       "      <td>5.1</td>\n",
       "      <td>1.6</td>\n",
       "      <td>Iris-versicolor</td>\n",
       "    </tr>\n",
       "    <tr>\n",
       "      <th>126</th>\n",
       "      <td>127</td>\n",
       "      <td>6.2</td>\n",
       "      <td>2.8</td>\n",
       "      <td>4.8</td>\n",
       "      <td>1.8</td>\n",
       "      <td>Iris-virginica</td>\n",
       "    </tr>\n",
       "  </tbody>\n",
       "</table>\n",
       "</div>"
      ],
      "text/plain": [
       "      Id  SepalLengthCm  SepalWidthCm  PetalLengthCm  PetalWidthCm  \\\n",
       "75    76            6.6           3.0            4.4           1.4   \n",
       "107  108            7.3           2.9            6.3           1.8   \n",
       "89    90            5.5           2.5            4.0           1.3   \n",
       "1      2            4.9           3.0            1.4           0.2   \n",
       "12    13            4.8           3.0            1.4           0.1   \n",
       "116  117            6.5           3.0            5.5           1.8   \n",
       "95    96            5.7           3.0            4.2           1.2   \n",
       "60    61            5.0           2.0            3.5           1.0   \n",
       "142  143            5.8           2.7            5.1           1.9   \n",
       "34    35            4.9           3.1            1.5           0.1   \n",
       "112  113            6.8           3.0            5.5           2.1   \n",
       "49    50            5.0           3.3            1.4           0.2   \n",
       "4      5            5.0           3.6            1.4           0.2   \n",
       "83    84            6.0           2.7            5.1           1.6   \n",
       "126  127            6.2           2.8            4.8           1.8   \n",
       "\n",
       "             Species  \n",
       "75   Iris-versicolor  \n",
       "107   Iris-virginica  \n",
       "89   Iris-versicolor  \n",
       "1        Iris-setosa  \n",
       "12       Iris-setosa  \n",
       "116   Iris-virginica  \n",
       "95   Iris-versicolor  \n",
       "60   Iris-versicolor  \n",
       "142   Iris-virginica  \n",
       "34       Iris-setosa  \n",
       "112   Iris-virginica  \n",
       "49       Iris-setosa  \n",
       "4        Iris-setosa  \n",
       "83   Iris-versicolor  \n",
       "126   Iris-virginica  "
      ]
     },
     "execution_count": 46,
     "metadata": {},
     "output_type": "execute_result"
    }
   ],
   "source": [
    "data2.sample(n=15)"
   ]
  },
  {
   "cell_type": "code",
   "execution_count": 47,
   "id": "8fc1408f-7bc2-4b70-b7e5-4a6e68fde3d2",
   "metadata": {},
   "outputs": [
    {
     "data": {
      "text/plain": [
       "[23, 24, 32, 45, 12, 43, 67, 45, 32, 56, 32]"
      ]
     },
     "execution_count": 47,
     "metadata": {},
     "output_type": "execute_result"
    }
   ],
   "source": [
    "data"
   ]
  },
  {
   "cell_type": "code",
   "execution_count": 48,
   "id": "fb8bd823-c3ba-4e51-8c15-0ddf23469844",
   "metadata": {},
   "outputs": [
    {
     "data": {
      "text/plain": [
       "11"
      ]
     },
     "execution_count": 48,
     "metadata": {},
     "output_type": "execute_result"
    }
   ],
   "source": [
    "len(data)"
   ]
  },
  {
   "cell_type": "code",
   "execution_count": 49,
   "id": "6d1d9952-abab-47ab-ba52-34a70be5c545",
   "metadata": {},
   "outputs": [
    {
     "data": {
      "text/plain": [
       "10"
      ]
     },
     "execution_count": 49,
     "metadata": {},
     "output_type": "execute_result"
    }
   ],
   "source": [
    "len(data)-1"
   ]
  },
  {
   "cell_type": "code",
   "execution_count": 50,
   "id": "4d6fa65e-8b18-4703-add0-d12b60282cef",
   "metadata": {},
   "outputs": [
    {
     "ename": "NameError",
     "evalue": "name 'n' is not defined",
     "output_type": "error",
     "traceback": [
      "\u001b[1;31m---------------------------------------------------------------------------\u001b[0m",
      "\u001b[1;31mNameError\u001b[0m                                 Traceback (most recent call last)",
      "Input \u001b[1;32mIn [50]\u001b[0m, in \u001b[0;36m<cell line: 1>\u001b[1;34m()\u001b[0m\n\u001b[1;32m----> 1\u001b[0m \u001b[43mn\u001b[49m\u001b[38;5;241m-\u001b[39m\u001b[38;5;241m1\u001b[39m\n",
      "\u001b[1;31mNameError\u001b[0m: name 'n' is not defined"
     ]
    }
   ],
   "source": [
    "n-1"
   ]
  },
  {
   "cell_type": "code",
   "execution_count": 51,
   "id": "117369bc-b2e7-4a58-af58-4a708bd4d334",
   "metadata": {},
   "outputs": [],
   "source": [
    "#python code for variance\n",
    "def variance(data):\n",
    "    n=len(data)\n",
    "    ## mean of the data\n",
    "    mean=sum(data)/n\n",
    "    ## variance\n",
    "    deviation=[(x - mean) ** 2 for x in data]\n",
    "    variance=sum(deviation)/(n-1)\n",
    "    return variance"
   ]
  },
  {
   "cell_type": "code",
   "execution_count": 52,
   "id": "15e37918-d3f1-4c28-82cd-b6bc6ade8f9b",
   "metadata": {},
   "outputs": [
    {
     "data": {
      "text/plain": [
       "248.8545454545455"
      ]
     },
     "execution_count": 52,
     "metadata": {},
     "output_type": "execute_result"
    }
   ],
   "source": [
    "variance(data)"
   ]
  },
  {
   "cell_type": "code",
   "execution_count": 53,
   "id": "e2b6f44b-0e62-41a9-b8a4-8edc747954b3",
   "metadata": {},
   "outputs": [
    {
     "data": {
      "text/plain": [
       "226.23140495867773"
      ]
     },
     "execution_count": 53,
     "metadata": {},
     "output_type": "execute_result"
    }
   ],
   "source": [
    "import numpy as np\n",
    "np.var(data)"
   ]
  },
  {
   "cell_type": "code",
   "execution_count": 54,
   "id": "1372ccb3-dd50-418e-8c58-bf82923e8286",
   "metadata": {},
   "outputs": [
    {
     "data": {
      "text/plain": [
       "15.040990823701666"
      ]
     },
     "execution_count": 54,
     "metadata": {},
     "output_type": "execute_result"
    }
   ],
   "source": [
    "np.std(data)"
   ]
  },
  {
   "cell_type": "code",
   "execution_count": 55,
   "id": "acfa35ec-155c-43b4-97b1-7f01b8d3733a",
   "metadata": {},
   "outputs": [
    {
     "data": {
      "text/plain": [
       "248.85454545454547"
      ]
     },
     "execution_count": 55,
     "metadata": {},
     "output_type": "execute_result"
    }
   ],
   "source": [
    "import statistics\n",
    "statistics.variance(data)"
   ]
  },
  {
   "cell_type": "code",
   "execution_count": 56,
   "id": "9b9ec4e6-bf4f-475b-b9a9-a40f778e2ec8",
   "metadata": {},
   "outputs": [
    {
     "data": {
      "text/plain": [
       "226.2314049586777"
      ]
     },
     "execution_count": 56,
     "metadata": {},
     "output_type": "execute_result"
    }
   ],
   "source": [
    "statistics.pvariance(data)"
   ]
  },
  {
   "cell_type": "code",
   "execution_count": 57,
   "id": "dbc7ba9f-c8af-42fd-b606-d936d00d4012",
   "metadata": {},
   "outputs": [
    {
     "data": {
      "text/plain": [
       "15.775124261144363"
      ]
     },
     "execution_count": 57,
     "metadata": {},
     "output_type": "execute_result"
    }
   ],
   "source": [
    "import math\n",
    "math.sqrt(statistics.variance(data))"
   ]
  },
  {
   "cell_type": "code",
   "execution_count": 58,
   "id": "2dc02437-3eac-4bc8-9036-866632fe32aa",
   "metadata": {},
   "outputs": [],
   "source": [
    "import seaborn as sns\n",
    "df=sns.load_dataset('tips')"
   ]
  },
  {
   "cell_type": "code",
   "execution_count": 59,
   "id": "329220af-360b-43b4-874c-f17dbd0ac639",
   "metadata": {},
   "outputs": [
    {
     "data": {
      "text/html": [
       "<div>\n",
       "<style scoped>\n",
       "    .dataframe tbody tr th:only-of-type {\n",
       "        vertical-align: middle;\n",
       "    }\n",
       "\n",
       "    .dataframe tbody tr th {\n",
       "        vertical-align: top;\n",
       "    }\n",
       "\n",
       "    .dataframe thead th {\n",
       "        text-align: right;\n",
       "    }\n",
       "</style>\n",
       "<table border=\"1\" class=\"dataframe\">\n",
       "  <thead>\n",
       "    <tr style=\"text-align: right;\">\n",
       "      <th></th>\n",
       "      <th>total_bill</th>\n",
       "      <th>tip</th>\n",
       "      <th>sex</th>\n",
       "      <th>smoker</th>\n",
       "      <th>day</th>\n",
       "      <th>time</th>\n",
       "      <th>size</th>\n",
       "    </tr>\n",
       "  </thead>\n",
       "  <tbody>\n",
       "    <tr>\n",
       "      <th>0</th>\n",
       "      <td>16.99</td>\n",
       "      <td>1.01</td>\n",
       "      <td>Female</td>\n",
       "      <td>No</td>\n",
       "      <td>Sun</td>\n",
       "      <td>Dinner</td>\n",
       "      <td>2</td>\n",
       "    </tr>\n",
       "    <tr>\n",
       "      <th>1</th>\n",
       "      <td>10.34</td>\n",
       "      <td>1.66</td>\n",
       "      <td>Male</td>\n",
       "      <td>No</td>\n",
       "      <td>Sun</td>\n",
       "      <td>Dinner</td>\n",
       "      <td>3</td>\n",
       "    </tr>\n",
       "    <tr>\n",
       "      <th>2</th>\n",
       "      <td>21.01</td>\n",
       "      <td>3.50</td>\n",
       "      <td>Male</td>\n",
       "      <td>No</td>\n",
       "      <td>Sun</td>\n",
       "      <td>Dinner</td>\n",
       "      <td>3</td>\n",
       "    </tr>\n",
       "    <tr>\n",
       "      <th>3</th>\n",
       "      <td>23.68</td>\n",
       "      <td>3.31</td>\n",
       "      <td>Male</td>\n",
       "      <td>No</td>\n",
       "      <td>Sun</td>\n",
       "      <td>Dinner</td>\n",
       "      <td>2</td>\n",
       "    </tr>\n",
       "    <tr>\n",
       "      <th>4</th>\n",
       "      <td>24.59</td>\n",
       "      <td>3.61</td>\n",
       "      <td>Female</td>\n",
       "      <td>No</td>\n",
       "      <td>Sun</td>\n",
       "      <td>Dinner</td>\n",
       "      <td>4</td>\n",
       "    </tr>\n",
       "  </tbody>\n",
       "</table>\n",
       "</div>"
      ],
      "text/plain": [
       "   total_bill   tip     sex smoker  day    time  size\n",
       "0       16.99  1.01  Female     No  Sun  Dinner     2\n",
       "1       10.34  1.66    Male     No  Sun  Dinner     3\n",
       "2       21.01  3.50    Male     No  Sun  Dinner     3\n",
       "3       23.68  3.31    Male     No  Sun  Dinner     2\n",
       "4       24.59  3.61  Female     No  Sun  Dinner     4"
      ]
     },
     "execution_count": 59,
     "metadata": {},
     "output_type": "execute_result"
    }
   ],
   "source": [
    "df.head()"
   ]
  },
  {
   "cell_type": "code",
   "execution_count": 60,
   "id": "4d3dd8f0-877b-48e2-ad2b-3f751a87a2e2",
   "metadata": {},
   "outputs": [
    {
     "name": "stdout",
     "output_type": "stream",
     "text": [
      "<class 'pandas.core.frame.DataFrame'>\n",
      "RangeIndex: 244 entries, 0 to 243\n",
      "Data columns (total 7 columns):\n",
      " #   Column      Non-Null Count  Dtype   \n",
      "---  ------      --------------  -----   \n",
      " 0   total_bill  244 non-null    float64 \n",
      " 1   tip         244 non-null    float64 \n",
      " 2   sex         244 non-null    category\n",
      " 3   smoker      244 non-null    category\n",
      " 4   day         244 non-null    category\n",
      " 5   time        244 non-null    category\n",
      " 6   size        244 non-null    int64   \n",
      "dtypes: category(4), float64(2), int64(1)\n",
      "memory usage: 7.4 KB\n"
     ]
    }
   ],
   "source": [
    "df.info()"
   ]
  },
  {
   "cell_type": "code",
   "execution_count": 61,
   "id": "1dc9d739-06c1-4d13-8272-fa2efa1eb5f5",
   "metadata": {},
   "outputs": [
    {
     "data": {
      "text/html": [
       "<div>\n",
       "<style scoped>\n",
       "    .dataframe tbody tr th:only-of-type {\n",
       "        vertical-align: middle;\n",
       "    }\n",
       "\n",
       "    .dataframe tbody tr th {\n",
       "        vertical-align: top;\n",
       "    }\n",
       "\n",
       "    .dataframe thead th {\n",
       "        text-align: right;\n",
       "    }\n",
       "</style>\n",
       "<table border=\"1\" class=\"dataframe\">\n",
       "  <thead>\n",
       "    <tr style=\"text-align: right;\">\n",
       "      <th></th>\n",
       "      <th>total_bill</th>\n",
       "      <th>tip</th>\n",
       "      <th>size</th>\n",
       "    </tr>\n",
       "  </thead>\n",
       "  <tbody>\n",
       "    <tr>\n",
       "      <th>total_bill</th>\n",
       "      <td>1.000000</td>\n",
       "      <td>0.675734</td>\n",
       "      <td>0.598315</td>\n",
       "    </tr>\n",
       "    <tr>\n",
       "      <th>tip</th>\n",
       "      <td>0.675734</td>\n",
       "      <td>1.000000</td>\n",
       "      <td>0.489299</td>\n",
       "    </tr>\n",
       "    <tr>\n",
       "      <th>size</th>\n",
       "      <td>0.598315</td>\n",
       "      <td>0.489299</td>\n",
       "      <td>1.000000</td>\n",
       "    </tr>\n",
       "  </tbody>\n",
       "</table>\n",
       "</div>"
      ],
      "text/plain": [
       "            total_bill       tip      size\n",
       "total_bill    1.000000  0.675734  0.598315\n",
       "tip           0.675734  1.000000  0.489299\n",
       "size          0.598315  0.489299  1.000000"
      ]
     },
     "execution_count": 61,
     "metadata": {},
     "output_type": "execute_result"
    }
   ],
   "source": [
    "df.corr()"
   ]
  },
  {
   "cell_type": "code",
   "execution_count": 62,
   "id": "405c1804-953c-4a8d-b3df-00fc41c5ff89",
   "metadata": {},
   "outputs": [
    {
     "data": {
      "text/plain": [
       "total_bill    0\n",
       "tip           0\n",
       "sex           0\n",
       "smoker        0\n",
       "day           0\n",
       "time          0\n",
       "size          0\n",
       "dtype: int64"
      ]
     },
     "execution_count": 62,
     "metadata": {},
     "output_type": "execute_result"
    }
   ],
   "source": [
    "df.isnull().sum()"
   ]
  },
  {
   "cell_type": "code",
   "execution_count": 63,
   "id": "1da8e272-ed2b-4a60-bbc2-7b8fbf6960bf",
   "metadata": {},
   "outputs": [
    {
     "data": {
      "text/plain": [
       "<AxesSubplot:xlabel='tip', ylabel='size'>"
      ]
     },
     "execution_count": 63,
     "metadata": {},
     "output_type": "execute_result"
    },
    {
     "data": {
      "image/png": "[encoded data removed]",
      "text/plain": [
       "<Figure size 640x480 with 1 Axes>"
      ]
     },
     "metadata": {},
     "output_type": "display_data"
    }
   ],
   "source": [
    "sns.scatterplot(x=df['tip'],y=df['size'])"
   ]
  },
  {
   "cell_type": "code",
   "execution_count": 64,
   "id": "239caf6b-aa53-4da9-bf7d-4b6c9e3a2121",
   "metadata": {},
   "outputs": [
    {
     "data": {
      "text/plain": [
       "<AxesSubplot:xlabel='tip', ylabel='total_bill'>"
      ]
     },
     "execution_count": 64,
     "metadata": {},
     "output_type": "execute_result"
    },
    {
     "data": {
      "image/png": "[encoded data removed]",
      "text/plain": [
       "<Figure size 640x480 with 1 Axes>"
      ]
     },
     "metadata": {},
     "output_type": "display_data"
    }
   ],
   "source": [
    "sns.scatterplot(x=df['tip'],y=df['total_bill'])"
   ]
  },
  {
   "cell_type": "code",
   "execution_count": 65,
   "id": "e475eb51-682b-4b90-af65-4b4e8f8b72cf",
   "metadata": {},
   "outputs": [
    {
     "data": {
      "text/html": [
       "<div>\n",
       "<style scoped>\n",
       "    .dataframe tbody tr th:only-of-type {\n",
       "        vertical-align: middle;\n",
       "    }\n",
       "\n",
       "    .dataframe tbody tr th {\n",
       "        vertical-align: top;\n",
       "    }\n",
       "\n",
       "    .dataframe thead th {\n",
       "        text-align: right;\n",
       "    }\n",
       "</style>\n",
       "<table border=\"1\" class=\"dataframe\">\n",
       "  <thead>\n",
       "    <tr style=\"text-align: right;\">\n",
       "      <th></th>\n",
       "      <th>total_bill</th>\n",
       "      <th>tip</th>\n",
       "      <th>size</th>\n",
       "    </tr>\n",
       "  </thead>\n",
       "  <tbody>\n",
       "    <tr>\n",
       "      <th>total_bill</th>\n",
       "      <td>79.252939</td>\n",
       "      <td>8.323502</td>\n",
       "      <td>5.065983</td>\n",
       "    </tr>\n",
       "    <tr>\n",
       "      <th>tip</th>\n",
       "      <td>8.323502</td>\n",
       "      <td>1.914455</td>\n",
       "      <td>0.643906</td>\n",
       "    </tr>\n",
       "    <tr>\n",
       "      <th>size</th>\n",
       "      <td>5.065983</td>\n",
       "      <td>0.643906</td>\n",
       "      <td>0.904591</td>\n",
       "    </tr>\n",
       "  </tbody>\n",
       "</table>\n",
       "</div>"
      ],
      "text/plain": [
       "            total_bill       tip      size\n",
       "total_bill   79.252939  8.323502  5.065983\n",
       "tip           8.323502  1.914455  0.643906\n",
       "size          5.065983  0.643906  0.904591"
      ]
     },
     "execution_count": 65,
     "metadata": {},
     "output_type": "execute_result"
    }
   ],
   "source": [
    "df.cov()"
   ]
  },
  {
   "cell_type": "raw",
   "id": "827481a1",
   "metadata": {},
   "source": [
    "corr/cov"
   ]
  },
  {
   "cell_type": "raw",
   "id": "a8f350de",
   "metadata": {},
   "source": [
    "pdf"
   ]
  },
  {
   "cell_type": "code",
   "execution_count": 66,
   "id": "11aa5c8c-e5fa-47f4-8c72-02962d6917b7",
   "metadata": {},
   "outputs": [
    {
     "data": {
      "text/plain": [
       "[23, 24, 32, 45, 12, 43, 67, 45, 32, 56, 32]"
      ]
     },
     "execution_count": 66,
     "metadata": {},
     "output_type": "execute_result"
    }
   ],
   "source": [
    "data"
   ]
  },
  {
   "cell_type": "code",
   "execution_count": 67,
   "id": "f3bb0099-951b-4780-84a5-9e9a5caf0c24",
   "metadata": {},
   "outputs": [
    {
     "data": {
      "text/plain": [
       "<AxesSubplot:ylabel='Count'>"
      ]
     },
     "execution_count": 67,
     "metadata": {},
     "output_type": "execute_result"
    },
    {
     "data": {
      "image/png": "[encoded data removed]",
      "text/plain": [
       "<Figure size 640x480 with 1 Axes>"
      ]
     },
     "metadata": {},
     "output_type": "display_data"
    }
   ],
   "source": [
    "import seaborn as sns\n",
    "sns.histplot(data)"
   ]
  },
  {
   "cell_type": "code",
   "execution_count": 68,
   "id": "0e9fea6c-8899-4d3a-a6fc-93f677797999",
   "metadata": {},
   "outputs": [],
   "source": [
    "data=[23, 24, 32, 45, 12, 43, 67, 45, 32, 56, 32]"
   ]
  },
  {
   "cell_type": "code",
   "execution_count": 69,
   "id": "5b6f4130",
   "metadata": {},
   "outputs": [
    {
     "data": {
      "text/plain": [
       "[23, 24, 32, 45, 12, 43, 67, 45, 32, 56, 32]"
      ]
     },
     "execution_count": 69,
     "metadata": {},
     "output_type": "execute_result"
    }
   ],
   "source": [
    "data"
   ]
  },
  {
   "cell_type": "code",
   "execution_count": 70,
   "id": "662370e0",
   "metadata": {},
   "outputs": [],
   "source": [
    "data_copy2=data.copy()"
   ]
  },
  {
   "cell_type": "code",
   "execution_count": 71,
   "id": "c419e9c4",
   "metadata": {},
   "outputs": [],
   "source": [
    "data_copy=data.copy()"
   ]
  },
  {
   "cell_type": "code",
   "execution_count": 72,
   "id": "28203c75",
   "metadata": {},
   "outputs": [],
   "source": [
    "data_copy.sort()"
   ]
  },
  {
   "cell_type": "code",
   "execution_count": 73,
   "id": "bcb40754",
   "metadata": {},
   "outputs": [],
   "source": [
    "data_copy.append(289)"
   ]
  },
  {
   "cell_type": "code",
   "execution_count": 74,
   "id": "ad9043b1",
   "metadata": {},
   "outputs": [
    {
     "data": {
      "text/plain": [
       "[12, 23, 24, 32, 32, 32, 43, 45, 45, 56, 67, 289]"
      ]
     },
     "execution_count": 74,
     "metadata": {},
     "output_type": "execute_result"
    }
   ],
   "source": [
    "data_copy"
   ]
  },
  {
   "cell_type": "code",
   "execution_count": 75,
   "id": "0458193a",
   "metadata": {},
   "outputs": [],
   "source": [
    "import seaborn as sns"
   ]
  },
  {
   "cell_type": "code",
   "execution_count": 76,
   "id": "a8662122",
   "metadata": {},
   "outputs": [
    {
     "data": {
      "text/plain": [
       "<AxesSubplot:ylabel='Count'>"
      ]
     },
     "execution_count": 76,
     "metadata": {},
     "output_type": "execute_result"
    },
    {
     "data": {
      "image/png": "[encoded data removed]",
      "text/plain": [
       "<Figure size 640x480 with 1 Axes>"
      ]
     },
     "metadata": {},
     "output_type": "display_data"
    }
   ],
   "source": [
    "sns.histplot(data)"
   ]
  },
  {
   "cell_type": "code",
   "execution_count": 77,
   "id": "76c52f66",
   "metadata": {},
   "outputs": [
    {
     "data": {
      "text/plain": [
       "<AxesSubplot:ylabel='Count'>"
      ]
     },
     "execution_count": 77,
     "metadata": {},
     "output_type": "execute_result"
    },
    {
     "data": {
      "image/png": "[encoded data removed]",
      "text/plain": [
       "<Figure size 640x480 with 1 Axes>"
      ]
     },
     "metadata": {},
     "output_type": "display_data"
    }
   ],
   "source": [
    "sns.histplot(data,kde=True)"
   ]
  },
  {
   "cell_type": "code",
   "execution_count": 78,
   "id": "2f3bdc76",
   "metadata": {},
   "outputs": [
    {
     "data": {
      "text/plain": [
       "<AxesSubplot:ylabel='Count'>"
      ]
     },
     "execution_count": 78,
     "metadata": {},
     "output_type": "execute_result"
    },
    {
     "data": {
      "image/png": "[encoded data removed]",
      "text/plain": [
       "<Figure size 640x480 with 1 Axes>"
      ]
     },
     "metadata": {},
     "output_type": "display_data"
    }
   ],
   "source": [
    "sns.histplot(data_copy,kde=True)"
   ]
  },
  {
   "cell_type": "code",
   "execution_count": 79,
   "id": "5f526f13",
   "metadata": {},
   "outputs": [],
   "source": [
    "data_copy2[0]=-10"
   ]
  },
  {
   "cell_type": "code",
   "execution_count": 80,
   "id": "2c326354",
   "metadata": {},
   "outputs": [],
   "source": [
    "data_copy2[1]=-75"
   ]
  },
  {
   "cell_type": "code",
   "execution_count": 81,
   "id": "8c471058",
   "metadata": {},
   "outputs": [
    {
     "data": {
      "text/plain": [
       "[-10, -75, 32, 45, 12, 43, 67, 45, 32, 56, 32]"
      ]
     },
     "execution_count": 81,
     "metadata": {},
     "output_type": "execute_result"
    }
   ],
   "source": [
    "data_copy2"
   ]
  },
  {
   "cell_type": "code",
   "execution_count": 82,
   "id": "ef6d4812",
   "metadata": {},
   "outputs": [
    {
     "data": {
      "text/plain": [
       "<AxesSubplot:ylabel='Count'>"
      ]
     },
     "execution_count": 82,
     "metadata": {},
     "output_type": "execute_result"
    },
    {
     "data": {
      "image/png": "[encoded data removed]",
      "text/plain": [
       "<Figure size 640x480 with 1 Axes>"
      ]
     },
     "metadata": {},
     "output_type": "display_data"
    }
   ],
   "source": [
    "sns.histplot(data_copy2,kde=True)"
   ]
  },
  {
   "cell_type": "code",
   "execution_count": 83,
   "id": "ac871bd8",
   "metadata": {},
   "outputs": [],
   "source": [
    "import pandas as pd\n",
    "data2=pd.read_csv(\"iris.csv\")"
   ]
  },
  {
   "cell_type": "code",
   "execution_count": 84,
   "id": "ba3f75cb",
   "metadata": {},
   "outputs": [
    {
     "data": {
      "text/html": [
       "<div>\n",
       "<style scoped>\n",
       "    .dataframe tbody tr th:only-of-type {\n",
       "        vertical-align: middle;\n",
       "    }\n",
       "\n",
       "    .dataframe tbody tr th {\n",
       "        vertical-align: top;\n",
       "    }\n",
       "\n",
       "    .dataframe thead th {\n",
       "        text-align: right;\n",
       "    }\n",
       "</style>\n",
       "<table border=\"1\" class=\"dataframe\">\n",
       "  <thead>\n",
       "    <tr style=\"text-align: right;\">\n",
       "      <th></th>\n",
       "      <th>Id</th>\n",
       "      <th>SepalLengthCm</th>\n",
       "      <th>SepalWidthCm</th>\n",
       "      <th>PetalLengthCm</th>\n",
       "      <th>PetalWidthCm</th>\n",
       "      <th>Species</th>\n",
       "    </tr>\n",
       "  </thead>\n",
       "  <tbody>\n",
       "    <tr>\n",
       "      <th>0</th>\n",
       "      <td>1</td>\n",
       "      <td>5.1</td>\n",
       "      <td>3.5</td>\n",
       "      <td>1.4</td>\n",
       "      <td>0.2</td>\n",
       "      <td>Iris-setosa</td>\n",
       "    </tr>\n",
       "    <tr>\n",
       "      <th>1</th>\n",
       "      <td>2</td>\n",
       "      <td>4.9</td>\n",
       "      <td>3.0</td>\n",
       "      <td>1.4</td>\n",
       "      <td>0.2</td>\n",
       "      <td>Iris-setosa</td>\n",
       "    </tr>\n",
       "    <tr>\n",
       "      <th>2</th>\n",
       "      <td>3</td>\n",
       "      <td>4.7</td>\n",
       "      <td>3.2</td>\n",
       "      <td>1.3</td>\n",
       "      <td>0.2</td>\n",
       "      <td>Iris-setosa</td>\n",
       "    </tr>\n",
       "    <tr>\n",
       "      <th>3</th>\n",
       "      <td>4</td>\n",
       "      <td>4.6</td>\n",
       "      <td>3.1</td>\n",
       "      <td>1.5</td>\n",
       "      <td>0.2</td>\n",
       "      <td>Iris-setosa</td>\n",
       "    </tr>\n",
       "    <tr>\n",
       "      <th>4</th>\n",
       "      <td>5</td>\n",
       "      <td>5.0</td>\n",
       "      <td>3.6</td>\n",
       "      <td>1.4</td>\n",
       "      <td>0.2</td>\n",
       "      <td>Iris-setosa</td>\n",
       "    </tr>\n",
       "  </tbody>\n",
       "</table>\n",
       "</div>"
      ],
      "text/plain": [
       "   Id  SepalLengthCm  SepalWidthCm  PetalLengthCm  PetalWidthCm      Species\n",
       "0   1            5.1           3.5            1.4           0.2  Iris-setosa\n",
       "1   2            4.9           3.0            1.4           0.2  Iris-setosa\n",
       "2   3            4.7           3.2            1.3           0.2  Iris-setosa\n",
       "3   4            4.6           3.1            1.5           0.2  Iris-setosa\n",
       "4   5            5.0           3.6            1.4           0.2  Iris-setosa"
      ]
     },
     "execution_count": 84,
     "metadata": {},
     "output_type": "execute_result"
    }
   ],
   "source": [
    "data2.head()"
   ]
  },
  {
   "cell_type": "code",
   "execution_count": 85,
   "id": "39c61b0e",
   "metadata": {},
   "outputs": [
    {
     "data": {
      "text/plain": [
       "<AxesSubplot:xlabel='SepalLengthCm', ylabel='Count'>"
      ]
     },
     "execution_count": 85,
     "metadata": {},
     "output_type": "execute_result"
    },
    {
     "data": {
      "image/png": "[encoded data removed]",
      "text/plain": [
       "<Figure size 640x480 with 1 Axes>"
      ]
     },
     "metadata": {},
     "output_type": "display_data"
    }
   ],
   "source": [
    "sns.histplot(np.log(data2[\"SepalLengthCm\"]),kde=True)"
   ]
  },
  {
   "cell_type": "code",
   "execution_count": 86,
   "id": "dc725ab2",
   "metadata": {},
   "outputs": [
    {
     "data": {
      "text/plain": [
       "<AxesSubplot:xlabel='SepalWidthCm', ylabel='Count'>"
      ]
     },
     "execution_count": 86,
     "metadata": {},
     "output_type": "execute_result"
    },
    {
     "data": {
      "image/png": "[encoded data removed]",
      "text/plain": [
       "<Figure size 640x480 with 1 Axes>"
      ]
     },
     "metadata": {},
     "output_type": "display_data"
    }
   ],
   "source": [
    "sns.histplot(data2[\"SepalWidthCm\"],kde=True)"
   ]
  },
  {
   "cell_type": "code",
   "execution_count": 87,
   "id": "1a811277",
   "metadata": {},
   "outputs": [
    {
     "data": {
      "text/plain": [
       "<AxesSubplot:xlabel='PetalLengthCm', ylabel='Count'>"
      ]
     },
     "execution_count": 87,
     "metadata": {},
     "output_type": "execute_result"
    },
    {
     "data": {
      "image/png": "[encoded data removed]",
      "text/plain": [
       "<Figure size 640x480 with 1 Axes>"
      ]
     },
     "metadata": {},
     "output_type": "display_data"
    }
   ],
   "source": [
    "sns.histplot(data2[\"PetalLengthCm\"],kde=True)"
   ]
  },
  {
   "cell_type": "code",
   "execution_count": 88,
   "id": "b1506505",
   "metadata": {},
   "outputs": [
    {
     "data": {
      "text/plain": [
       "<AxesSubplot:xlabel='PetalWidthCm', ylabel='Count'>"
      ]
     },
     "execution_count": 88,
     "metadata": {},
     "output_type": "execute_result"
    },
    {
     "data": {
      "image/png": "[encoded data removed]",
      "text/plain": [
       "<Figure size 640x480 with 1 Axes>"
      ]
     },
     "metadata": {},
     "output_type": "display_data"
    }
   ],
   "source": [
    "sns.histplot(data2[\"PetalWidthCm\"],kde=True)"
   ]
  },
  {
   "cell_type": "code",
   "execution_count": 89,
   "id": "7bb22fd4",
   "metadata": {},
   "outputs": [],
   "source": [
    "import numpy as np\n",
    "s=np.random.normal(0.5,0.2,1000)"
   ]
  },
  {
   "cell_type": "code",
   "execution_count": 90,
   "id": "4121303a",
   "metadata": {},
   "outputs": [
    {
     "data": {
      "text/plain": [
       "array([ 0.71919309,  0.56967716,  0.58996817,  0.77048667,  0.56445698,\n",
       "        0.52758648,  0.339905  ,  0.53909427,  0.49789891,  0.57086206,\n",
       "        0.47072003,  0.25078504,  0.54368489,  0.78577469,  0.27993945,\n",
       "        0.41719778,  0.7420868 ,  0.58283138,  0.27635873,  0.38500565,\n",
       "        0.65638692,  0.59145459,  0.52206386,  0.31454996,  0.4610157 ,\n",
       "        0.3202901 ,  0.36132803,  0.18650487,  0.18516827,  0.63299417,\n",
       "        0.80343953,  0.26949784,  0.37537862,  0.6582457 ,  0.96081703,\n",
       "        0.56027898,  0.64187029,  0.40389518,  0.376777  ,  0.4310016 ,\n",
       "        0.57538756,  0.2379178 ,  0.25183614,  0.64491858,  0.32173285,\n",
       "        0.06294075,  0.62204971,  0.71447698,  0.47316065,  0.28817087,\n",
       "        0.62582126,  0.52361111,  0.12196175,  0.68229961,  0.30469657,\n",
       "        0.4985728 ,  0.16943022,  0.24058617,  0.45281122,  0.76468622,\n",
       "        0.79759082,  0.65656002,  0.41901478,  0.66634914,  0.7802346 ,\n",
       "        0.48288833,  0.05774535,  0.45488352,  0.69164127,  0.83861952,\n",
       "        0.51237387,  0.3051068 ,  0.69557482,  0.82847435,  0.48821917,\n",
       "        0.70340517,  0.53218885,  0.67936216,  0.74324849,  0.3741726 ,\n",
       "        0.45673455,  0.38271293,  0.0598964 ,  0.54192289,  0.68536147,\n",
       "        0.60527061,  0.60158782,  0.46226063,  0.44183105,  0.52714022,\n",
       "        0.35723733,  0.26575401,  0.58433485,  0.32247374,  0.4750654 ,\n",
       "        0.6845062 ,  0.71996196,  0.31109413,  0.38475175,  0.62848053,\n",
       "        0.84138683,  0.70228588,  0.49770305,  0.64869908,  0.13077855,\n",
       "        0.32305989,  0.08630639,  1.02224175,  0.69918124,  0.51259232,\n",
       "        0.31145633,  0.56986211,  0.40019245,  0.70643174,  0.34527128,\n",
       "        0.75531131,  0.68823858,  0.36346102,  0.6143667 ,  0.69235425,\n",
       "        0.55995054,  0.45437827,  0.79295823,  0.63983568,  0.63408444,\n",
       "        0.40847014,  0.80580491,  0.26939401,  0.48306514,  0.13867769,\n",
       "        0.65698141,  0.65266628,  0.25007861,  0.64740001,  0.32211169,\n",
       "        0.71135479,  0.42286671,  0.49388478,  0.15710827,  0.31277102,\n",
       "        0.58885408,  0.79616557,  0.56930499,  0.64731824,  0.3343367 ,\n",
       "        0.37622755,  0.68184806,  0.50916621,  0.47097624,  0.17402346,\n",
       "        0.41074186,  0.45723267,  0.33040143,  0.70677487,  0.37453287,\n",
       "        0.39686208,  0.32387391,  0.74405896,  0.24526042,  0.30293504,\n",
       "        0.6227805 ,  0.85077801,  0.62706553,  0.68758624,  0.47609826,\n",
       "        0.67272927,  0.63343742,  0.27828702,  0.08367952,  0.75813593,\n",
       "        0.17051072,  0.83422309,  0.64138436,  0.69047773,  0.44227206,\n",
       "        0.52370034,  0.46818883,  0.64573224,  0.3468828 ,  0.72939601,\n",
       "        0.55424239,  0.54318392,  0.68157006,  0.41178481,  0.3927119 ,\n",
       "        0.10593804,  0.33974944,  0.72727394,  0.37684442,  0.8888382 ,\n",
       "        0.34742545,  0.36122713,  0.47839255,  0.45545241,  0.68259401,\n",
       "        0.57407595,  0.76582224,  0.36902475,  0.39082444,  0.49668905,\n",
       "        0.21830019,  0.49904986,  0.90930606,  0.36155503,  0.60041596,\n",
       "        0.4352395 ,  0.22701407,  0.36260059,  0.47139802,  0.3563238 ,\n",
       "        0.70379195,  0.39205133,  0.38442219,  0.79329371,  0.65247421,\n",
       "        0.3992138 ,  0.71148926,  0.53826306,  0.61539854,  0.7997294 ,\n",
       "        0.56243622,  0.38536011,  0.41195355,  0.2102861 ,  0.39076333,\n",
       "        0.55357783,  0.50472158,  0.35588731,  0.71473744,  0.60187696,\n",
       "        0.42184046,  0.81945084,  0.71552687,  0.83171691,  0.61535949,\n",
       "        0.60266215,  0.68404008,  0.42023358,  0.44925751,  0.25558509,\n",
       "        0.37362991,  0.47512316,  0.39588214,  0.74851725,  0.6206991 ,\n",
       "        0.46903892,  0.49787004,  0.67343854,  0.43875705,  0.63404069,\n",
       "        0.26410242,  0.37717132,  0.83228053,  0.49426236,  0.36768293,\n",
       "        0.68545046,  0.11598599,  0.31793975,  0.47638149,  0.01069596,\n",
       "        0.01878085,  0.59903553,  0.37112581,  0.46733678,  0.65975216,\n",
       "        0.15106203,  0.55304478,  0.95559324,  0.6243909 ,  0.27170606,\n",
       "        0.78478936,  0.58655603,  0.51796857,  0.39756284,  0.74062624,\n",
       "        0.39098674,  0.52616478,  0.35087863,  0.58325849,  0.3976577 ,\n",
       "        0.52782442,  0.50082758,  0.62926686,  0.35863738,  0.22522392,\n",
       "        0.60823166,  0.38928732,  0.48041158,  0.41374032,  0.31315714,\n",
       "        0.44496668,  0.57200859,  0.51462467,  0.51696996,  0.52960994,\n",
       "        0.79360513,  0.0923374 ,  0.28865259,  0.38819778,  0.40867821,\n",
       "        0.7968432 ,  0.60860722,  0.56326269,  0.47506745,  0.28781512,\n",
       "        0.44129684,  0.5249685 ,  0.31215824,  0.51187369,  0.5114107 ,\n",
       "        0.42276154,  0.51275652,  0.34310935,  0.8223188 ,  0.27781491,\n",
       "        0.38326538,  0.49175811,  0.22403682,  0.52711569,  0.74828194,\n",
       "        0.4986578 ,  0.91612513,  0.42574321,  0.52055792,  0.71947187,\n",
       "        0.77624534,  0.59126627,  0.58620099,  0.41031312,  0.47921653,\n",
       "        0.44171769,  0.5704863 ,  0.5623621 ,  0.51403229,  0.56065355,\n",
       "        0.53846274,  0.61141877,  0.53048079,  0.38447418,  0.54360255,\n",
       "        0.91984671,  0.81738348,  0.79243532,  0.91658561,  0.77420032,\n",
       "        0.86851217,  0.38106285,  0.39778369,  0.30887619,  0.60890579,\n",
       "       -0.08116948,  0.68784995,  0.76205931,  0.28082501,  0.58415453,\n",
       "        0.51004848,  0.24618224,  0.36073385,  0.58407055,  0.33426782,\n",
       "        0.53375747,  0.6885295 ,  0.62699451,  0.5676383 ,  0.36218086,\n",
       "        0.64621292,  0.5046125 ,  0.6859669 ,  0.59680531,  0.38659376,\n",
       "        0.99428338,  0.54822218,  0.39284958,  0.52975838,  0.31902495,\n",
       "        0.37740069,  0.44653844,  0.36028517,  0.7387246 ,  0.30402591,\n",
       "        0.58037048,  0.12834965,  0.19127966,  0.71015406,  0.23894268,\n",
       "        0.52606283,  0.91092677,  0.94421173,  0.62391709,  0.46881532,\n",
       "        0.35872037,  0.42887358,  0.52295061,  0.87360047,  0.69516856,\n",
       "        0.28290114,  0.48787629,  0.77716564,  0.18405583,  0.40552811,\n",
       "        0.28780773,  0.64554719,  0.72749763,  0.56877389,  0.48834213,\n",
       "        0.37274367,  0.49497759,  0.72646274,  0.7555028 ,  0.70658795,\n",
       "        0.21174382,  0.52477406,  0.80870886,  0.23114318,  0.55494383,\n",
       "        0.61758999, -0.02428223,  0.53097123,  0.3623957 ,  0.12935147,\n",
       "        0.47074136,  0.52076898,  0.88330363,  0.57359587,  0.36848354,\n",
       "        0.44059379,  0.63084937,  0.22251443,  0.26097756,  0.35757022,\n",
       "        0.17688894,  0.68022397,  0.40038732,  0.29433381,  0.93014674,\n",
       "        0.47970771,  0.07126191,  0.3228372 ,  0.27296153,  0.90228964,\n",
       "        0.71873788,  0.54124101,  0.72414837,  0.41375607,  0.43929008,\n",
       "        0.31874939,  0.78441958,  0.40916955,  0.50193532,  0.69632178,\n",
       "        0.70595495,  0.17115594,  0.63314156,  0.40199415,  0.36511975,\n",
       "        0.4453229 ,  0.40134436,  0.26130465,  0.30896406,  0.3228246 ,\n",
       "        0.42028709,  0.61518239,  0.4356684 ,  0.49413862,  0.81727497,\n",
       "        0.5627953 ,  0.03465528,  0.1506061 ,  0.64915499,  0.5891413 ,\n",
       "        0.81897054,  0.48492133,  0.45519917, -0.07293629,  0.55005717,\n",
       "        0.74450569,  0.73029533,  0.40588603,  0.30136644,  0.25906291,\n",
       "        0.56756991,  0.46813747,  0.47271287,  0.67065229,  0.11344199,\n",
       "        0.6406285 ,  0.49624025,  0.70693808,  0.51634581,  0.44162925,\n",
       "        0.06742801,  0.54267177,  0.46719536,  0.51865137,  0.69383623,\n",
       "        0.49717101,  0.60913927,  0.46657924,  0.3203513 ,  0.51870996,\n",
       "        0.52193787,  0.57357889,  0.4805752 ,  0.42818108,  0.39488903,\n",
       "        0.50219005,  0.44422382,  0.46350296,  0.41708002,  0.45753147,\n",
       "        0.18488164,  0.61741087,  0.3298587 ,  0.35712611,  0.83341909,\n",
       "        0.56669197,  0.4355068 ,  0.64209483,  0.49311429,  0.27270518,\n",
       "        0.5975543 ,  0.69649753,  0.40037006,  0.29737065,  0.146994  ,\n",
       "        0.73580918,  0.7730561 ,  0.51178644,  0.72391323,  0.53229247,\n",
       "        0.8425922 ,  0.55207833,  0.54385189,  0.50115483,  0.4068446 ,\n",
       "        0.66067698,  0.44366864,  0.46899337,  0.36203194,  0.89490169,\n",
       "        0.65901009,  0.28620311,  0.28129858,  0.35149337,  0.19730913,\n",
       "        0.52379886,  0.432218  ,  0.81134361,  0.40472631,  0.60597665,\n",
       "        0.39446696,  0.58178602,  0.72625913,  0.79204083,  0.25039133,\n",
       "        0.42153717,  0.56755621,  0.61974432,  0.58237386,  0.69018265,\n",
       "        0.24360613,  0.51516415,  0.81709628,  0.59341655,  0.46657105,\n",
       "        0.67683907,  0.47451612,  0.74734129,  0.40572301,  0.40746858,\n",
       "        0.63861769,  0.73682688,  0.51103394,  0.39367575,  0.54765868,\n",
       "        0.15511425,  0.46333476,  0.23872076,  0.45869209,  0.52350981,\n",
       "        0.35787346,  0.58779754,  0.53153743,  0.47052752,  0.40662724,\n",
       "        0.50905345,  0.54849405,  0.49361647,  0.59621049,  0.33920971,\n",
       "        0.38467291,  0.28638956,  0.66903623,  0.5599226 ,  0.40177465,\n",
       "        0.64091994,  0.14702104,  0.29364993,  0.34636556,  0.63278131,\n",
       "        0.22686433,  0.485143  ,  0.08761618,  0.61944123,  0.31932859,\n",
       "        0.52112435,  0.70615239,  0.75473234,  0.50596654,  0.85570566,\n",
       "        0.32024836,  0.31330167,  0.66464875,  0.34723094,  0.41011963,\n",
       "        0.55658989,  0.43131742,  0.12697505,  0.41613798,  0.68017755,\n",
       "        0.53783268,  0.66024007,  0.73643086,  0.63336504,  0.48533745,\n",
       "        0.46090772,  0.3655298 ,  0.18287613,  0.64924022,  0.51154979,\n",
       "        0.44930092,  0.50358932,  0.70000096,  0.8817187 ,  0.12079165,\n",
       "        0.76268251,  0.53563498,  0.38775679,  0.6568672 ,  0.63305706,\n",
       "        0.60355852,  0.34438099,  0.47266873,  0.56901448,  0.35458787,\n",
       "        0.64262864,  0.20592119,  0.72305629,  0.56918082,  0.36630636,\n",
       "        0.46541133,  0.55751481,  0.37317583,  0.35546623,  0.74946231,\n",
       "        0.85462873,  0.36943661,  0.67277243,  0.47142995,  0.15167002,\n",
       "        0.36063759,  0.47182055,  0.5121384 ,  0.37907839,  0.47660031,\n",
       "        0.35719829,  0.21378892,  0.43553162,  0.26511113,  0.59408478,\n",
       "        0.18027614,  0.65510221,  0.59029451,  0.39851063,  0.52114962,\n",
       "        0.44623878,  0.5042108 ,  0.75734258,  0.71802605,  0.34485976,\n",
       "        0.61155328,  0.70633721,  0.75525991,  0.27137269,  0.80251494,\n",
       "        0.55951621,  0.33363656,  0.32574652,  0.46471138,  0.13168733,\n",
       "        0.57832055,  0.77497177,  0.66830555,  0.39044282,  0.70062047,\n",
       "        0.43737381,  0.2714235 ,  0.33234294,  0.1556367 ,  0.57641284,\n",
       "        0.46135879,  0.42295447,  0.58549715,  0.73328652,  0.67368798,\n",
       "        0.57999733,  0.82101607,  0.81158935,  0.51694213,  0.52009636,\n",
       "        0.61166508,  0.3418434 ,  0.80287838,  0.36366582,  0.58825912,\n",
       "        0.23659621,  0.42119119,  0.48105348,  0.38104397,  0.77836213,\n",
       "        0.4667059 ,  0.2537666 ,  0.52148745,  0.3653647 ,  0.43854736,\n",
       "        0.28419825,  0.53110088,  0.39436919,  0.56416926,  0.29117451,\n",
       "        0.32049964,  0.32119457,  0.35615985,  0.25555802,  0.59978621,\n",
       "        0.07075737,  0.57024488,  0.42946226,  0.88775947,  0.55423542,\n",
       "        0.56735556,  0.71647945,  0.74834752,  0.45880718,  0.28190965,\n",
       "        0.37034674,  0.53489912,  0.22609655,  0.38983831,  0.75129475,\n",
       "        0.61719709,  0.46957471,  0.57173397,  0.773368  ,  0.505227  ,\n",
       "        0.71219875,  0.3888653 ,  0.29806123,  0.38314886,  0.5514665 ,\n",
       "        0.51922572,  0.54466652,  0.39528552,  0.53867502,  0.28146181,\n",
       "        0.64000526,  0.85844982,  0.53504797,  0.47072113,  0.39356741,\n",
       "        0.69006287,  0.51509375,  0.46236803,  0.72250014,  0.61967319,\n",
       "        0.630604  ,  0.31030876,  0.72180196,  0.30746814,  0.36529206,\n",
       "        0.23538251,  0.66818275,  0.81867139,  0.50426635,  0.53779352,\n",
       "        0.63485501,  0.49047872,  0.58863346,  0.43735227,  0.75856259,\n",
       "        0.79117422,  0.54097961,  0.56044877,  0.75993674,  0.73980759,\n",
       "        0.64710237,  0.60767035,  0.42622202,  0.32994299,  0.5666804 ,\n",
       "        0.36045161,  0.64252821,  0.43223276,  0.74433916,  0.54589299,\n",
       "        0.44001964,  0.52768729,  0.45804314,  0.54341093,  0.29653905,\n",
       "        0.78869732,  0.23594583,  0.62108126,  0.3272326 ,  0.44117684,\n",
       "        0.55659022,  0.26843553,  0.53827673,  0.88294548,  0.54627736,\n",
       "        0.50287959,  0.30683859,  0.32636297,  0.83034147,  0.7353075 ,\n",
       "        0.23679797,  0.36466172,  0.51887268,  0.35482924,  0.56588017,\n",
       "        0.35932002,  0.49754247,  0.38056952,  0.47239485,  0.3637752 ,\n",
       "        0.14773147,  0.40045355,  0.63941471,  0.68794106,  0.28501379,\n",
       "        0.61501334,  0.70491362,  0.35151124,  0.46553869,  0.53428959,\n",
       "        0.22920417,  0.52881835,  0.38446458,  0.36399329,  0.59934133,\n",
       "        0.87829222,  0.36847225,  0.75924523,  0.05492121,  0.53322699,\n",
       "        0.66194148,  0.49204248,  0.51663882,  0.46834832,  0.90198934,\n",
       "        0.68357049,  0.49353184,  0.66972664,  0.45307336,  0.45852796,\n",
       "        0.34224215,  1.0565731 ,  0.51526161,  0.51380894,  0.44517154,\n",
       "        0.48705122,  0.63441245,  0.62486117,  0.27022997,  0.44690977,\n",
       "        0.49155075,  0.331722  ,  0.538958  ,  0.72908574,  0.39331949,\n",
       "        0.38878334,  0.71228354,  0.60548373,  0.38725833,  0.93676567,\n",
       "        0.76293849,  0.36510463,  0.68398024,  0.28028892,  0.43095825,\n",
       "        0.50098616,  0.30014446,  0.26853797,  0.3885501 ,  0.17455959,\n",
       "        0.65815374,  0.45367239,  0.55413595,  0.42108069,  0.45883362,\n",
       "        0.53451572,  0.28988904,  0.66593614,  0.98740862,  0.57771717,\n",
       "        0.51014002,  0.29456235,  0.5206385 ,  0.56005487,  0.64465248,\n",
       "        0.77058801,  0.69730369,  0.36923291,  0.32010908,  0.16919105,\n",
       "        0.6926132 ,  0.39740942,  0.49108877,  0.47229808,  0.45402443,\n",
       "        0.53818048,  0.58362546,  0.60474039,  0.69313216,  0.76991459,\n",
       "        0.43288751,  0.12593958,  0.40549731,  0.40613693,  0.3481713 ,\n",
       "        0.65805967,  0.19810878,  0.70632836,  0.16836561,  0.53479216,\n",
       "        0.5179086 ,  0.6742508 ,  0.22313738,  0.39755718,  0.3703467 ,\n",
       "        0.29180168,  0.21926576,  0.49767517,  0.24013649,  0.38215119,\n",
       "        0.61899347,  0.22743534,  0.5041865 ,  0.55190725,  0.63821642,\n",
       "        0.73460465,  0.79657968,  0.63315605,  0.49471246,  0.68865134,\n",
       "        0.69677858,  0.53062049,  0.49401359,  0.67796545,  0.47230681,\n",
       "        0.49559818,  0.66082557,  0.43863069,  0.20934552,  0.49893067,\n",
       "        0.46100411,  0.55580118,  0.43075594,  0.49145002,  0.56458688,\n",
       "        0.40882692,  0.57525914,  0.63035165,  0.38043813,  0.21271895,\n",
       "        0.65292217,  0.42150253,  0.40952989,  0.45581467,  0.58566866,\n",
       "        0.58919716,  0.56573373,  0.81316686,  0.69209333,  0.57070392,\n",
       "        0.46114572,  0.75218183,  0.56330201,  0.29617023,  0.42303761,\n",
       "        0.47574116,  0.3591183 ,  0.77752381,  0.19488693,  0.3483048 ,\n",
       "        0.78690797,  0.36831597,  0.43240903,  0.42639739,  0.71198237])"
      ]
     },
     "execution_count": 90,
     "metadata": {},
     "output_type": "execute_result"
    }
   ],
   "source": [
    "s"
   ]
  },
  {
   "cell_type": "code",
   "execution_count": 91,
   "id": "9cea792a",
   "metadata": {},
   "outputs": [
    {
     "data": {
      "text/plain": [
       "<AxesSubplot:ylabel='Count'>"
      ]
     },
     "execution_count": 91,
     "metadata": {},
     "output_type": "execute_result"
    },
    {
     "data": {
      "image/png": "[encoded data removed]",
      "text/plain": [
       "<Figure size 640x480 with 1 Axes>"
      ]
     },
     "metadata": {},
     "output_type": "display_data"
    }
   ],
   "source": [
    "sns.histplot(s,kde=True)"
   ]
  },
  {
   "cell_type": "code",
   "execution_count": 92,
   "id": "36f3307a",
   "metadata": {},
   "outputs": [],
   "source": [
    "mu,sigma=3.0,1.0\n",
    "p=np.random.lognormal(mu,sigma,1000)"
   ]
  },
  {
   "cell_type": "code",
   "execution_count": 93,
   "id": "9b0f13e7",
   "metadata": {},
   "outputs": [
    {
     "data": {
      "text/plain": [
       "array([ 24.84894782,   6.73768359,  24.76266985,   4.22137508,\n",
       "         1.95485269,  27.90681414,  31.58879526,  55.20929468,\n",
       "        12.53187735,  13.61576028,  68.19076651, 114.9957679 ,\n",
       "         8.96274384,  34.20113811,   2.84796904,  74.9266931 ,\n",
       "        37.14928174,  24.11818321,  26.01848712,  57.05766322,\n",
       "         7.83880366,   7.09465919,   8.03069941,   6.87730644,\n",
       "         4.17107519,  17.5914175 ,  28.88853357,   8.48185379,\n",
       "        10.84748477,  72.09503511,  48.92748269,   1.56590475,\n",
       "        31.48787339,  11.4809001 ,  34.9079993 ,  28.39420818,\n",
       "        33.64071287,  21.81524984,  80.33145197, 133.88873464,\n",
       "        15.13453801,   4.35565652,  15.24761327,  30.44659713,\n",
       "        29.76128714,  39.42947382,  57.12912638,  71.71998712,\n",
       "        35.19735475,  63.71046708,  25.67406414,  38.83932366,\n",
       "        30.01382135,  37.73493838,  41.15562419,   6.69201815,\n",
       "         5.23437367, 104.59493772,  12.84208396,  27.58252422,\n",
       "        25.52795989,  21.00932522,   7.77375217,   1.79330083,\n",
       "        17.94589674,  46.07360607,  13.59150305,  31.23583633,\n",
       "        25.96670202,   4.08789203,  15.32932619,  55.05832358,\n",
       "         5.37640234,  18.96696141,  10.29000756,   8.62348686,\n",
       "        12.85368286,  12.38900964,  14.86681198,  22.25225106,\n",
       "        18.84820572,  50.91490627,  37.37407908,  27.93553672,\n",
       "        15.73525216,  60.46556156,  49.74412557,  58.89131886,\n",
       "        36.12970058,  38.07618929,  34.12421802,  12.97709182,\n",
       "        17.51876565,  76.04298369,  99.02485221,  25.31563773,\n",
       "        11.67457667,  19.59282555,   5.65532535,  34.0836394 ,\n",
       "        25.38657863,  16.50037436, 137.06817158,   4.4319658 ,\n",
       "        30.62159287,  12.33036072,  29.43771835,   5.58337745,\n",
       "        92.269703  , 168.83141484,   5.11759732,  41.15512106,\n",
       "        10.36973334,  62.23675701,  24.36372197,  27.1272839 ,\n",
       "        27.79824523, 101.65532494,  80.37507008,   9.49074186,\n",
       "        18.85345254,   6.14336238,  28.67272997,  20.15019906,\n",
       "        45.41861918,  47.61652062, 171.46690939,  43.55147339,\n",
       "        66.98325296,  70.96746596,  12.93664631,   7.58408371,\n",
       "        20.71929649,  28.87663308,  18.598131  ,  40.75365442,\n",
       "        17.39032128,  16.3325873 ,   7.70526594, 112.63159232,\n",
       "        11.72491785,  14.13390574,   4.99353046,   8.54181998,\n",
       "         7.0123823 ,  16.54523508,  97.1719174 ,  51.38659409,\n",
       "        10.39253065,   9.8301032 ,  42.4189082 ,  39.53491809,\n",
       "         4.36433577,  25.93931747,   1.48093867, 103.51442981,\n",
       "        13.08055074,   7.22804502, 137.26188993,  13.27818298,\n",
       "        24.58649925,  62.67701758,   3.81684597,  27.22728114,\n",
       "        23.55359197,  87.77602322,   8.48039352,  35.51972828,\n",
       "         5.34623072,  12.15082785, 193.07627896,  16.89117513,\n",
       "        71.28226296,   9.34516274,   6.81797995,   8.15298751,\n",
       "        33.23150608, 168.54758294, 246.86635786,  19.02605981,\n",
       "         8.39254251,   4.27152665,   7.31393676,  26.73056874,\n",
       "         6.52882271,  60.20419478,   8.40656675,  50.95154596,\n",
       "         6.64519687,  23.30608544,   5.24096459,  56.24865444,\n",
       "         6.57918512,   6.0885737 ,  82.11760354,  12.4040642 ,\n",
       "        13.28713487,   4.56452935,  20.02221056,   9.90338327,\n",
       "         6.87640736,  19.61129284,   5.94827487,  11.75091439,\n",
       "        56.6482477 ,  14.07876653,  21.90012319,   6.27963006,\n",
       "         4.33673504,  11.06934915,  14.91136177,  48.28290947,\n",
       "       156.79661065,  12.98223613,  26.65389887,  18.71264402,\n",
       "        49.72928952,  36.33724536,  12.09668143,  49.27270344,\n",
       "        46.0095904 ,   6.32015398,  14.34853082,  24.36787597,\n",
       "         5.34106955,   7.19734889,  15.10598706, 269.65562433,\n",
       "        90.26493056, 128.29609868,  20.05982688,  69.08776971,\n",
       "        73.76670754,  31.31740776,  11.90433287,   6.74994703,\n",
       "         2.39707273,  19.0895729 , 212.44948388,   8.63309122,\n",
       "        32.89079708,   6.26350785,   6.78869227,   1.60124507,\n",
       "        22.63219655,  20.39807624,   6.27155842,  14.57153943,\n",
       "        35.79903216,  14.31199588,  24.94437235,  18.68657757,\n",
       "        25.96561096,  24.29820835,  13.34862935, 114.27416684,\n",
       "         7.76961648,  33.9503779 ,  56.1759266 ,  54.82982208,\n",
       "        74.8705178 ,  12.03340396,  29.30898503,   9.39178818,\n",
       "        42.31038739,  68.71251903,  23.84308151,  42.92607955,\n",
       "         9.16215364,  17.18110186,  24.83540599,  14.53492456,\n",
       "        19.98756049,   4.16941247,  73.52272072,   8.9950207 ,\n",
       "        12.22523163, 141.11360962,   3.38662535,  36.55353426,\n",
       "        10.66778011,  20.7662482 ,  18.21291388,  24.7426576 ,\n",
       "        11.67127303,  29.99387616,   6.52697495,  36.98279019,\n",
       "        24.40914963,   7.243208  ,   4.15591224,   7.42404585,\n",
       "        32.06161216,   8.35204174, 117.15473355,  24.40318237,\n",
       "        46.30935752,  54.60885813,  17.90522222,   3.62533019,\n",
       "        87.37857009,   5.83108276,  37.17224863,  10.06948198,\n",
       "        77.28346522,  26.28723382,  21.64751419,  21.1823032 ,\n",
       "        16.76025839,  59.01131087,  11.52518084,   5.36012228,\n",
       "       107.94445197,  77.05745883,  66.27053708, 151.18439554,\n",
       "        21.83698956,  27.9420079 ,  15.64108959,  23.95635829,\n",
       "        31.5825578 ,  30.76261636,  10.3489325 ,   6.9714205 ,\n",
       "       106.57665287,  33.63431807,  24.08231148,  39.7696296 ,\n",
       "        23.64412537,  53.99408707,  71.57938834,   4.56909727,\n",
       "        37.8622753 ,  16.82734026,   2.37712316, 173.15308556,\n",
       "        20.16882157,   3.70236078,   7.06236253,  28.99943994,\n",
       "        47.96569502,  16.19787595,  21.7238412 ,  22.60464787,\n",
       "        29.67442213,  28.83277269,  18.53105382,  12.67562087,\n",
       "        14.68668764,  28.1828069 ,  44.62308488,  18.8141465 ,\n",
       "        18.17579983,  63.20768038,  12.29812232,   5.47352829,\n",
       "         5.61353288,  25.08712026,  91.53889841,  86.49011197,\n",
       "       601.61645957,  24.29814917,  46.05288825, 152.09006644,\n",
       "        57.92367208,  17.18309794,  24.33918172,  27.8953229 ,\n",
       "        15.03726885,   5.01675365,  10.05653062,   3.96076129,\n",
       "        44.00733184,   1.82861845, 154.49822932,  13.9584612 ,\n",
       "         9.41555732,  43.8681862 ,  95.71246523,  41.35344113,\n",
       "        11.14612391,  21.7822304 ,  30.92601019,  25.94950443,\n",
       "        43.69744118,  12.79938321,  11.43247493,   4.54278509,\n",
       "        98.16867396,  12.71429228, 107.44028943,  38.91421968,\n",
       "        34.98022387,  13.14643079,  20.46916445,   4.57287293,\n",
       "        95.22983054,  70.14601223,   6.34045785,   5.50167686,\n",
       "        28.24551191,  87.45470223,  20.71476269,  57.50570875,\n",
       "         7.19225673,  28.28413483,  17.29348749,  21.92669971,\n",
       "        42.31489433,  22.95243017,   5.71386425,   4.7900679 ,\n",
       "         6.61235171,  21.2158533 ,  15.93800471,  27.29383991,\n",
       "        53.59858706,  58.30436229,  23.67023325,  14.64488698,\n",
       "        28.9375184 ,  13.31421544,  22.69858512,  11.28620635,\n",
       "        12.28550228,  57.16265314,  28.49917394,  40.47079437,\n",
       "        10.13107787, 177.89986716,  14.22394458,  25.60931563,\n",
       "        10.74108744,  26.32860175,  15.89607334,   9.44127215,\n",
       "        76.6680606 ,   1.59401121,   5.6645038 ,  37.53741173,\n",
       "        23.72562416,   5.289425  ,   5.42101603,  12.89599158,\n",
       "        14.44076046,   9.18720593,  16.77969886,  89.19173478,\n",
       "        72.99389587,   5.83287996,  16.83439718,   6.10705591,\n",
       "         1.2802288 ,   2.36310286,  24.70105291,  12.98791159,\n",
       "         6.53144968,  55.35301621,   9.17264686,  40.61600037,\n",
       "        65.51040308,   9.65197036,  22.90834613,   8.94075123,\n",
       "         7.37077013,  26.80976717,  13.73783579,   2.29737178,\n",
       "        18.10955194,   5.75323701,  31.24964571,  15.21499343,\n",
       "        21.95782978,  53.58798313,  96.22085184,  22.85673995,\n",
       "        13.68260556,  64.78287697,  13.17759441,  23.10410431,\n",
       "        91.85221729,  36.77440379,  11.64211412,  22.30965908,\n",
       "        45.48789927,  93.38736652,  22.01613351,   8.9208452 ,\n",
       "        24.0227504 ,  21.55149394,  21.50041782,  11.04499254,\n",
       "        58.06748968,   1.65807403,   7.77427903,  40.33034734,\n",
       "        78.84154286,   7.44219184,  72.75806745,  25.20902949,\n",
       "        26.20761577,  15.45319079,  21.27082587,  21.56749106,\n",
       "        50.09982591,  65.89120104,  40.29316424,  18.53605948,\n",
       "         2.1796374 ,  23.48756142,  21.74380448,  20.56161395,\n",
       "        14.82824855,  35.54469899,  13.3629723 ,  16.27117357,\n",
       "        45.63044649,  45.86102531,   2.41011803,  11.74330533,\n",
       "        13.4598931 ,  28.43305315,  11.1528229 ,  12.3877301 ,\n",
       "        55.22068944,   2.40899877,   4.32364425,  14.06204058,\n",
       "        29.25253274,  22.01783107,   1.9206326 ,  20.45863362,\n",
       "        18.86496681,  11.23994531,   7.46814802,  15.80034774,\n",
       "        19.42158996,  20.31821855,   6.6704093 ,  24.28955107,\n",
       "       425.93977031,  14.85614494,  30.91182071,  87.06071596,\n",
       "        14.52009741,  25.33940062,  58.02317304,  42.56241392,\n",
       "        29.42945815,  26.90406996,  54.04235898,  17.99374506,\n",
       "        59.76823721,   7.83415609,  18.14241434,  51.25235947,\n",
       "         3.28469801,   6.92637537,  22.68417793,  49.036522  ,\n",
       "        28.33104564,  21.07781348,   4.77729808,  31.57386769,\n",
       "        49.37858184,  13.42587927,  55.34519787,  24.13876527,\n",
       "         3.42469157,   6.67734925,  81.62827273,  14.26768657,\n",
       "        26.87461547,   2.5897438 , 261.08308527, 200.70866106,\n",
       "        40.13049414,  41.01046682,  28.99866466,  12.13921812,\n",
       "        36.10885505,  74.95620828,  74.88450689,  25.3606728 ,\n",
       "        19.62969503,  39.79949812,  14.99752386,  13.38841453,\n",
       "         9.32810838,  61.5636001 ,   2.78498302,  12.04594874,\n",
       "        60.23695847,  94.12106426,  15.12552017,  31.99955415,\n",
       "        68.31718762,  38.48976907,  17.23575386,  14.28798294,\n",
       "         3.26970802,  43.17458915,  16.71928942,  56.57223789,\n",
       "        33.43605553,  61.96968442,   8.67447797,  33.15293781,\n",
       "        34.75325716,  42.71240202, 186.28858528,  97.47152322,\n",
       "        38.38307218,   8.59571066,  25.61705706,  43.55775396,\n",
       "         4.96283999,   3.12892858,  12.67405952,   4.75885042,\n",
       "        51.12695226,  67.23863298, 142.85763976, 150.06224045,\n",
       "        24.99850335,   2.44940353,  90.86608764,  34.04369151,\n",
       "         2.54604238,  17.75495078,  27.4175017 ,  17.78746338,\n",
       "        25.06557696,  21.37786384,  11.61650444,  36.69530886,\n",
       "         5.62535727,  11.08539447,  38.36724707,  10.0910504 ,\n",
       "        13.20076029,   4.40891662,  80.69754211,  75.57122514,\n",
       "        18.77174033,  50.71531418,  12.15590754,   7.22961752,\n",
       "        12.26167978,  71.98086659,  16.68179959,  16.508526  ,\n",
       "       170.61135021,  11.07988207,  30.38702526,  18.3802717 ,\n",
       "        27.07344319,  14.21933204,   7.93894684,  13.96247783,\n",
       "        12.11081293,  17.03600594, 190.83359135, 233.05336952,\n",
       "         1.59079254,  27.93126184,   2.41311546,  49.03381311,\n",
       "         4.53572745,  15.00952791,  47.6222346 ,   6.05555321,\n",
       "        26.85522606,  25.65572306,  44.13743099, 140.45780052,\n",
       "         3.47201464,  13.19078927,   7.96047034,  35.01808113,\n",
       "        53.37940835,  69.42664052,  21.88884227,  24.55231377,\n",
       "         4.20615533,   5.31788621,  10.76650628,  22.99347831,\n",
       "         3.44977703,   8.51562747,   3.1291602 ,  21.48573308,\n",
       "        39.96779104, 143.97651915,  16.52270631,  13.99242827,\n",
       "        13.62737162,  51.88452385,  46.64927513,  22.09109394,\n",
       "        24.80813265,  50.39103538,   7.68110025,  15.0927541 ,\n",
       "        17.96796246,  15.95734568,  23.46269419,  13.4686322 ,\n",
       "        19.84399054,  24.5142081 ,  42.73011654,   5.56237648,\n",
       "        21.54327193,  19.81504224,   3.39060371,  25.18864378,\n",
       "        22.91921691,  11.39390314,  21.61853557,  60.71292373,\n",
       "         6.39334854,  15.69578653,  10.09915864,   8.13161143,\n",
       "        14.57847543,  24.51784916,  64.30002504,  33.01884636,\n",
       "        17.35427392,   6.32918685,  27.11358475,   9.4721304 ,\n",
       "         8.11255697,   7.12800714,   5.194087  ,  12.04570491,\n",
       "        50.3583683 ,  86.46003878,  11.77417685,  23.1010323 ,\n",
       "        17.80695996,  38.69969604,  25.92891057,  23.3475621 ,\n",
       "        39.51966987,  79.56727037,  32.1233969 ,   7.94871685,\n",
       "         9.25348431,  13.53046772,  46.0550704 ,   6.71283509,\n",
       "        11.25026845,   5.7746012 ,  20.00761221,  22.88996441,\n",
       "         6.13335123,  40.79245585,  41.65057475,  58.5278824 ,\n",
       "       141.92088745,   9.4559402 ,  18.50201533,   3.92530572,\n",
       "         4.92793006,  61.4660789 ,  12.16700759,  54.44545126,\n",
       "        10.88482884,  48.98123559,   3.19309985,  17.31771628,\n",
       "        49.34530765,  46.10325922,  28.71055002,  31.66087869,\n",
       "        10.6195143 ,  13.53769831,  17.22028039,  22.97353939,\n",
       "        15.99564967,  13.12087898,  46.96314498,  11.14723647,\n",
       "        22.07843427,  20.17186729,  15.35219608,  18.06875521,\n",
       "         8.50421248,  39.18525524,  21.43472711,   8.16815757,\n",
       "        20.11863066,  19.75283197,  53.23301616,  23.09395205,\n",
       "        25.5584122 ,  20.76391088,   8.4570057 ,  12.28326649,\n",
       "        17.8256367 ,  36.48615104,  23.39198476,   8.06678637,\n",
       "        61.29102007,  23.44281333,  11.74780659, 140.31905733,\n",
       "        18.48816323,  21.91192566,   7.30453424,  49.38570339,\n",
       "        11.08818233,  21.22700044,  15.2715429 ,   6.72017852,\n",
       "        26.09202735,  19.64592891,   9.7447806 ,   5.7844522 ,\n",
       "        13.51077832,  32.84875244,  95.63990299,   7.36784468,\n",
       "        36.84706119,  37.5643859 ,  12.39464513,  15.19498404,\n",
       "        10.36529427,  31.9003335 ,  57.28419961,  49.67616069,\n",
       "        22.87368136, 104.33620038, 346.75659169,  25.27003174,\n",
       "        46.43136436,  24.44151768,  21.99279262,  36.44556456,\n",
       "        45.48806371, 129.56727346,   4.70547418,   8.48884514,\n",
       "        18.06238802,  46.22656824,  16.01546091,  13.47431379,\n",
       "         5.71485948,  12.15447097, 440.45995088,   8.10159031,\n",
       "         6.51536478, 103.2787022 ,  18.39763627,  67.10619625,\n",
       "        11.27429666,  54.41383016,  39.82345455,  15.59310748,\n",
       "        35.32329584,  20.39894076,  40.61671793,  59.38770854,\n",
       "        13.71847885,   6.35670972,   4.23647653,  27.55446254,\n",
       "        14.78509394,  18.81425002,  21.79952141,   7.43892492,\n",
       "       269.33359266,   5.0014531 ,  48.18379433,  35.1825828 ,\n",
       "        95.49965738,   7.2581111 ,  24.06103493,  26.57548845,\n",
       "        11.33462464,  41.5293081 ,   7.34146535,   7.11989985,\n",
       "        42.28980117,  11.74514043,   2.43012277, 280.41283977,\n",
       "         8.63768234,  10.75795866,  13.19508768, 114.13089186,\n",
       "        66.66028209,  33.73231339,  89.37256884,  12.24468253,\n",
       "        57.36432667, 171.34598242,  11.57437447,  26.78814801,\n",
       "        23.61117194,   6.29560228,  21.75417556, 132.17424339,\n",
       "        13.98296969,  62.92968754,  10.06221412,  35.12149328,\n",
       "         8.89972003,  11.19923752,  38.83673602,  35.05015863,\n",
       "        12.96841945,   8.8541441 ,  52.93865187,  20.64601871,\n",
       "        41.57451006,  14.46215962,  16.67856363,  13.70599226,\n",
       "        59.14086885,   2.2080985 ,   9.77280373,   7.38686744,\n",
       "        17.17913276,  10.06537192,  72.64403123,  59.2808132 ,\n",
       "        14.3758109 ,  27.65497774,  10.80158805,  22.78516898,\n",
       "        16.21474733,   5.14340281,   7.30628725,   2.81145577,\n",
       "         2.8089718 ,  18.04895435,   5.79238079, 179.23290895,\n",
       "        33.15932646,  59.50297847,  11.49410207,   5.17163563,\n",
       "        10.29856711,  42.6799374 ,  23.35257786,   2.99463556,\n",
       "        53.19152907,   5.49934983,  47.69074393,  38.30524346,\n",
       "        62.59935648,  15.57461441,  11.79796752,   3.22455769,\n",
       "        24.71745904,  15.28365415,  43.1054649 ,  64.67306516,\n",
       "        70.47167626,   6.77869472,   9.12495735,  22.21215561,\n",
       "         9.54640057,  19.57680448,  37.83752147,  25.14900867,\n",
       "         8.56736392, 796.77141482,  11.9788636 , 191.95083121,\n",
       "         9.86401707,   8.95261554, 105.75562263,  35.0082905 ,\n",
       "         5.93511772,  21.30281362,  24.49139482,   7.82411755,\n",
       "        11.25008535,   7.31007985,  17.08973813,  26.82877785,\n",
       "        20.59181899,  22.61552616,   9.22362238,  18.74048037,\n",
       "        14.95028437,   9.59500646,  27.78147309,  18.35625702,\n",
       "        34.6007479 ,  26.92443397,  10.23391648,   1.79514737,\n",
       "        50.4046364 ,  28.33806201,  12.53611789,  89.85439063])"
      ]
     },
     "execution_count": 93,
     "metadata": {},
     "output_type": "execute_result"
    }
   ],
   "source": [
    "p"
   ]
  },
  {
   "cell_type": "code",
   "execution_count": 94,
   "id": "54e69453",
   "metadata": {},
   "outputs": [
    {
     "data": {
      "text/plain": [
       "<AxesSubplot:ylabel='Count'>"
      ]
     },
     "execution_count": 94,
     "metadata": {},
     "output_type": "execute_result"
    },
    {
     "data": {
      "image/png": "[encoded data removed]",
      "text/plain": [
       "<Figure size 640x480 with 1 Axes>"
      ]
     },
     "metadata": {},
     "output_type": "display_data"
    }
   ],
   "source": [
    "sns.histplot(p,kde=True)"
   ]
  },
  {
   "cell_type": "code",
   "execution_count": 95,
   "id": "9340c476",
   "metadata": {},
   "outputs": [
    {
     "data": {
      "text/plain": [
       "<AxesSubplot:ylabel='Count'>"
      ]
     },
     "execution_count": 95,
     "metadata": {},
     "output_type": "execute_result"
    },
    {
     "data": {
      "image/png": "[encoded data removed]",
      "text/plain": [
       "<Figure size 640x480 with 1 Axes>"
      ]
     },
     "metadata": {},
     "output_type": "display_data"
    }
   ],
   "source": [
    "sns.histplot(np.log(p),kde=True)"
   ]
  },
  {
   "cell_type": "code",
   "execution_count": 96,
   "id": "aa951656",
   "metadata": {},
   "outputs": [
    {
     "data": {
      "text/plain": [
       "[23, 24, 32, 45, 12, 43, 67, 45, 32, 56, 32]"
      ]
     },
     "execution_count": 96,
     "metadata": {},
     "output_type": "execute_result"
    }
   ],
   "source": [
    "data"
   ]
  },
  {
   "cell_type": "code",
   "execution_count": 97,
   "id": "7cd98448",
   "metadata": {},
   "outputs": [],
   "source": [
    "import matplotlib.pyplot as plt\n",
    "import scipy.stats as stat\n",
    "import pylab\n",
    "def plot_data(sample):\n",
    "    plt.figure(figsize=(10,6))\n",
    "    plt.subplot(1,2,1)\n",
    "    sns.histplot(sample,kde=True)\n",
    "    plt.subplot(1,2,2)\n",
    "    stat.probplot(sample,dist='norm',plot=pylab)\n",
    "    plt.show()"
   ]
  },
  {
   "cell_type": "code",
   "execution_count": 98,
   "id": "5f0253d0",
   "metadata": {},
   "outputs": [
    {
     "data": {
      "image/png": "[encoded data removed]",
      "text/plain": [
       "<Figure size 1000x600 with 2 Axes>"
      ]
     },
     "metadata": {},
     "output_type": "display_data"
    }
   ],
   "source": [
    "plot_data(np.log(p))"
   ]
  },
  {
   "cell_type": "code",
   "execution_count": null,
   "id": "9733c565",
   "metadata": {},
   "outputs": [],
   "source": []
  },
  {
   "cell_type": "code",
   "execution_count": null,
   "id": "35e6f9db",
   "metadata": {},
   "outputs": [],
   "source": []
  }
 ],
 "metadata": {
  "kernelspec": {
   "display_name": "Python 3 (ipykernel)",
   "language": "python",
   "name": "python3"
  },
  "language_info": {
   "codemirror_mode": {
    "name": "ipython",
    "version": 3
   },
   "file_extension": ".py",
   "mimetype": "text/x-python",
   "name": "python",
   "nbconvert_exporter": "python",
   "pygments_lexer": "ipython3",
   "version": "3.9.7"
  }
 },
 "nbformat": 4,
 "nbformat_minor": 5
}
